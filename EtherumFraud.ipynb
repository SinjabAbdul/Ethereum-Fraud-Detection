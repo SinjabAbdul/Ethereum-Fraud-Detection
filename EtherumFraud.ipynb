{
 "cells": [
  {
   "cell_type": "markdown",
   "metadata": {},
   "source": [
    "# COGS 118A - Final Project"
   ]
  },
  {
   "cell_type": "markdown",
   "metadata": {},
   "source": [
    "# Detecting Fraudulent Transactions on Ethereum.\n",
    "\n",
    "- Abdulrahman Sinjab\n",
    "- Muhammad Fadli Alim Arsani\n",
    "- Sarah Kagzi"
   ]
  },
  {
   "cell_type": "markdown",
   "metadata": {},
   "source": [
    "# Abstract \n",
    "\n",
    "In this project we address the problem of ethereum fraud and classify and predict fraudulent transaction anomalies found in the ethereum network. We do this using two datasets, the ethereum fraud detection dataset and the elliptic dataset, the former containing labelled data on known fraudulent transactions and the latter containing a graph network of bitcoin transactions with a heavy reliance on feature engineering, giving us the opportunity to classify the illicit and licit nodes in the graph. These datasets will first be cleaned, all features will be normalized and features with 0 variance will be dropped. These two datasets will then be used to build a supervised machine learning decision tree ensemble that incorporates XGBoost, logistic regression and random forests in order to effectively classify fraudulent and safe transactions of ethereum. The performance of our model will be measured using a normalized confusion matrix and precision recall curves.\n"
   ]
  },
  {
   "cell_type": "markdown",
   "metadata": {},
   "source": [
    "# Background\n",
    "\n",
    "We hope to build upon the approach that major banks utilize in their solutions to detect and deal with credit card fraud. For instance, the Visa’s Visa Advanced Authorization system utilizes several features to help it classify a fraudulent transaction<a name=\"tim\"></a>[<sup>[1]</sup>](#timnote). These features include the type of transaction (i.e. whether it was  via mobile, online or contactless), the geolocation, spending patterns (i.e. whether the is transaction too large compared to the cardholder’s usual spending amounts), time of the day (i.e. whether the transaction is too large and occurring at an odd time of the day), etc. Thus we see that an ethereum fraud detection model would also utilize an approach that builds on top of this algorithmic structure of a supervised machine learning classifier. \n",
    "\n",
    "According to a report by the US Federal Trade Commission (FTC), 46,000 people have reported losing over $1 billion in crypto to scams in 2021 <a name=\"staff\"></a>[<sup>[2]</sup>](#staffnote). These fraudulent transactions can be further classified based on type of fraud conducted - for example, investment scams (i.e. fraudulent websites that promise the purchase of ethereum but are actually traps for folks that may not be as knowledgeable about cryptocurrency mining), romance scams (i.e. suspicious websites with tutorials to navigate cryptocurrency that guide users to simply send payments to the scammer), and business and government imposters (i.e. scammers that appear to be trustworthy sources such as the government or a large company). Thus these types of fraud can be used as labels to classify fraudulent and non fraudulent transactions.  \n",
    "\n",
    "An example of similar work that has been done includes a paper by Tehreem Ashfaq et al on a fraud detection mechanism for the bitcoin network in which they use a model incorporating the random forest algorithm and the XGboost algorithm for classification <a name=\"khalid\"></a>[<sup>[3]</sup>](#khalidnote). This model is used to not only classify transactions but also predict future patterns. We hope to incorporate some of their findings and build on it in our own machine learning model. \n"
   ]
  },
  {
   "cell_type": "markdown",
   "metadata": {},
   "source": [
    "# Problem Statement\n",
    "\n",
    "Our goal in this project is to detect fraudulent transactions of ethereum. Ethereum and cryptocurrency in general being a disruptive and innovative technology are volatile financial securities, with many looking to invest when the returns are on a high, and many pulling out when their value crashes. Thus, the market for ethereum is a highly volatile one, periodically attracting a high volume of investments. However, since the market for ethereum is still an emerging one and is dependent on disruptive blockchain technology this means that it lacks a centralized regulatory system to certify transactions, thus making it extremely prone to fraud, especially during times when the value of ethereum is at a high. Moreover, since ethereum transactions are irreversible, the consequences of fraud are significantly far reaching and permanent. \n",
    "\n",
    "However, despite the high risk of fraud, cryptocurrency is here to stay and as more people learn about it, is on its way to becoming mainstream as a payment method which makes it a crucial priority for us to find a way to detect fraudulent transactions in order to make ethereum and blockchain technology more secure. We hope to focus on ethereum for this project, however, the machine learning model developed in this project can be generalized for other cryptocurrency too, making our project replicable. Our approach is to use a supervised machine learning model since the detection of fraudulent transactions boils down to classifying fraudulent transactions based on anomalies such as location changes, sudden increases in transactional amounts, and other such user behaviours that are recorded in real time. Machine learning algorithms used for classification would be most effective at detecting any such departures from regular use behaviour. "
   ]
  },
  {
   "cell_type": "markdown",
   "metadata": {},
   "source": [
    "# Data\n",
    "\n",
    "We use the following dataset to achieve the goal of this project: Detecting Fraudulent Transactions In Cryotocurrencies Exchange\n",
    "\n",
    "__[Ethereum Fraud Detection Dataset](https://www.kaggle.com/datasets/vagifa/ethereum-frauddetection-dataset?datasetId=1074447&sortBy=voteCounthttps://www.kaggle.com/datasets/vagifa/ethereum-frauddetection-dataset?datasetId=1074447&sortBy=voteCount)__\n",
    "\n",
    "This dataset contains rows of known fraud and valid transactions made over Ethereum, a type of cryptocurrency.\n",
    "\n",
    "Each observation consists of the following features:\n",
    "- Index: the index number of a row\n",
    "- Address: the address of the ethereum account\n",
    "- FLAG: whether the transaction is fraud or not\n",
    "- Avg min between sent tnx: Average time between sent transactions for account in minutes\n",
    "- Avg_min_between_received_tnx: Average time between received transactions for account in minutes\n",
    "- Time_Diff_between_first_and_last(Mins): Time difference between the first and last transaction\n",
    "- Sent_tnx: Total number of sent normal transactions\n",
    "- Received_tnx: Total number of received normal transactions\n",
    "- Number_of_Created_Contracts: Total Number of created contract transactions\n",
    "- Unique_Received_From_Addresses: Total Unique addresses from which account received transactions\n",
    "- Unique_Sent_To_Addresses20: Total Unique addresses from which account sent transactions\n",
    "- Min_Value_Received: Minimum value in Ether ever received\n",
    "- Max_Value_Received: Maximum value in Ether ever received\n",
    "- Avg_Value_Received5Average value in Ether ever received\n",
    "- Min_Val_Sent: Minimum value of Ether ever sent\n",
    "- Max_Val_Sent: Maximum value of Ether ever sent\n",
    "- Avg_Val_Sent: Average value of Ether ever sent\n",
    "- Min_Value_Sent_To_Contract: Minimum value of Ether sent to a contract\n",
    "- Max_Value_Sent_To_Contract: Maximum value of Ether sent to a contract\n",
    "- Avg_Value_Sent_To_Contract: Average value of Ether sent to contracts\n",
    "- Total_Transactions(Including_Tnx_to_Create_Contract): Total number of transactions\n",
    "- Total_Ether_Sent:Total Ether sent for account address\n",
    "- Total_Ether_Received: Total Ether received for account address\n",
    "- Total_Ether_Sent_Contracts: Total Ether sent to Contract addresses\n",
    "- Total_Ether_Balance: Total Ether Balance following enacted transactions\n",
    "- Total_ERC20_Tnxs: Total number of ERC20 token transfer transactions\n",
    "- ERC20_Total_Ether_Received: Total ERC20 token received transactions in Ether\n",
    "- ERC20_Total_Ether_Sent: Total ERC20token sent transactions in Ether\n",
    "- ERC20_Total_Ether_Sent_Contract: Total ERC20 token transfer to other contracts in Ether\n",
    "- ERC20_Uniq_Sent_Addr: Number of ERC20 token transactions sent to Unique account addresses\n",
    "- ERC20_Uniq_Rec_Addr: Number of ERC20 token transactions received from Unique addresses\n",
    "- ERC20_Uniq_Rec_Contract_Addr: Number of ERC20token transactions received from Unique contract addresses\n",
    "- ERC20_Avg_Time_Between_Sent_Tnx: Average time between ERC20 token sent transactions in minutes\n",
    "- ERC20_Avg_Time_Between_Rec_Tnx: Average time between ERC20 token received transactions in minutes\n",
    "- ERC20_Avg_Time_Between_Contract_Tnx: Average time ERC20 token between sent token transactions\n",
    "- ERC20_Min_Val_Rec: Minimum value in Ether received from ERC20 token transactions for account\n",
    "- ERC20_Max_Val_Rec: Maximum value in Ether received from ERC20 token transactions for account\n",
    "- ERC20_Avg_Val_Rec: Average value in Ether received from ERC20 token transactions for account\n",
    "- ERC20_Min_Val_Sent: Minimum value in Ether sent from ERC20 token transactions for account\n",
    "- ERC20_Max_Val_Sent: Maximum value in Ether sent from ERC20 token transactions for account\n",
    "- ERC20_Avg_Val_Sent: Average value in Ether sent from ERC20 token transactions for account\n",
    "- ERC20_Uniq_Sent_Token_Name: Number of Unique ERC20 tokens transferred\n",
    "- ERC20_Uniq_Rec_Token_Name: Number of Unique ERC20 tokens received\n",
    "- ERC20_Most_Sent_Token_Type: Most sent token for account via ERC20 transaction\n",
    "- ERC20_Most_Rec_Token_Type: Most received token for account via ERC20 transactions"
   ]
  },
  {
   "cell_type": "markdown",
   "metadata": {},
   "source": [
    "First we examined the dataset and decided that since the columns `Address` and `index` won't help us to build a good model - they're unncessary (a random, unique, and cannot-be-regenerated, thus these features can be dropped since they will be estremely unhelpful in helping us model a distribution."
   ]
  },
  {
   "cell_type": "code",
   "execution_count": 1,
   "metadata": {},
   "outputs": [],
   "source": [
    "import numpy as np\n",
    "import pandas as pd\n",
    "import seaborn as sns\n",
    "import matplotlib.pyplot as plt\n",
    "from sklearn.metrics import f1_score\n",
    "from sklearn.metrics import confusion_matrix, classification_report\n",
    "from sklearn.metrics import ConfusionMatrixDisplay\n",
    "from sklearn.pipeline import Pipeline\n",
    "\n",
    "# To suppress annoying warnings\n",
    "import warnings\n",
    "warnings.filterwarnings('ignore')"
   ]
  },
  {
   "cell_type": "code",
   "execution_count": 2,
   "metadata": {
    "scrolled": true
   },
   "outputs": [
    {
     "name": "stdout",
     "output_type": "stream",
     "text": [
      "(9841, 51)\n"
     ]
    }
   ],
   "source": [
    "df = pd.read_csv(\"transaction_dataset.csv\")\n",
    "print(df.shape)"
   ]
  },
  {
   "cell_type": "code",
   "execution_count": 3,
   "metadata": {
    "scrolled": true
   },
   "outputs": [
    {
     "data": {
      "text/html": [
       "<div>\n",
       "<style scoped>\n",
       "    .dataframe tbody tr th:only-of-type {\n",
       "        vertical-align: middle;\n",
       "    }\n",
       "\n",
       "    .dataframe tbody tr th {\n",
       "        vertical-align: top;\n",
       "    }\n",
       "\n",
       "    .dataframe thead th {\n",
       "        text-align: right;\n",
       "    }\n",
       "</style>\n",
       "<table border=\"1\" class=\"dataframe\">\n",
       "  <thead>\n",
       "    <tr style=\"text-align: right;\">\n",
       "      <th></th>\n",
       "      <th>Unnamed: 0</th>\n",
       "      <th>Index</th>\n",
       "      <th>Address</th>\n",
       "      <th>FLAG</th>\n",
       "      <th>Avg min between sent tnx</th>\n",
       "      <th>Avg min between received tnx</th>\n",
       "      <th>Time Diff between first and last (Mins)</th>\n",
       "      <th>Sent tnx</th>\n",
       "      <th>Received Tnx</th>\n",
       "      <th>Number of Created Contracts</th>\n",
       "      <th>...</th>\n",
       "      <th>ERC20 min val sent</th>\n",
       "      <th>ERC20 max val sent</th>\n",
       "      <th>ERC20 avg val sent</th>\n",
       "      <th>ERC20 min val sent contract</th>\n",
       "      <th>ERC20 max val sent contract</th>\n",
       "      <th>ERC20 avg val sent contract</th>\n",
       "      <th>ERC20 uniq sent token name</th>\n",
       "      <th>ERC20 uniq rec token name</th>\n",
       "      <th>ERC20 most sent token type</th>\n",
       "      <th>ERC20_most_rec_token_type</th>\n",
       "    </tr>\n",
       "  </thead>\n",
       "  <tbody>\n",
       "    <tr>\n",
       "      <th>0</th>\n",
       "      <td>0</td>\n",
       "      <td>1</td>\n",
       "      <td>0x00009277775ac7d0d59eaad8fee3d10ac6c805e8</td>\n",
       "      <td>0</td>\n",
       "      <td>844.26</td>\n",
       "      <td>1093.71</td>\n",
       "      <td>704785.63</td>\n",
       "      <td>721</td>\n",
       "      <td>89</td>\n",
       "      <td>0</td>\n",
       "      <td>...</td>\n",
       "      <td>0.000000</td>\n",
       "      <td>1.683100e+07</td>\n",
       "      <td>271779.920000</td>\n",
       "      <td>0.0</td>\n",
       "      <td>0.0</td>\n",
       "      <td>0.0</td>\n",
       "      <td>39.0</td>\n",
       "      <td>57.0</td>\n",
       "      <td>Cofoundit</td>\n",
       "      <td>Numeraire</td>\n",
       "    </tr>\n",
       "    <tr>\n",
       "      <th>1</th>\n",
       "      <td>1</td>\n",
       "      <td>2</td>\n",
       "      <td>0x0002b44ddb1476db43c868bd494422ee4c136fed</td>\n",
       "      <td>0</td>\n",
       "      <td>12709.07</td>\n",
       "      <td>2958.44</td>\n",
       "      <td>1218216.73</td>\n",
       "      <td>94</td>\n",
       "      <td>8</td>\n",
       "      <td>0</td>\n",
       "      <td>...</td>\n",
       "      <td>2.260809</td>\n",
       "      <td>2.260809e+00</td>\n",
       "      <td>2.260809</td>\n",
       "      <td>0.0</td>\n",
       "      <td>0.0</td>\n",
       "      <td>0.0</td>\n",
       "      <td>1.0</td>\n",
       "      <td>7.0</td>\n",
       "      <td>Livepeer Token</td>\n",
       "      <td>Livepeer Token</td>\n",
       "    </tr>\n",
       "    <tr>\n",
       "      <th>2</th>\n",
       "      <td>2</td>\n",
       "      <td>3</td>\n",
       "      <td>0x0002bda54cb772d040f779e88eb453cac0daa244</td>\n",
       "      <td>0</td>\n",
       "      <td>246194.54</td>\n",
       "      <td>2434.02</td>\n",
       "      <td>516729.30</td>\n",
       "      <td>2</td>\n",
       "      <td>10</td>\n",
       "      <td>0</td>\n",
       "      <td>...</td>\n",
       "      <td>0.000000</td>\n",
       "      <td>0.000000e+00</td>\n",
       "      <td>0.000000</td>\n",
       "      <td>0.0</td>\n",
       "      <td>0.0</td>\n",
       "      <td>0.0</td>\n",
       "      <td>0.0</td>\n",
       "      <td>8.0</td>\n",
       "      <td>None</td>\n",
       "      <td>XENON</td>\n",
       "    </tr>\n",
       "    <tr>\n",
       "      <th>3</th>\n",
       "      <td>3</td>\n",
       "      <td>4</td>\n",
       "      <td>0x00038e6ba2fd5c09aedb96697c8d7b8fa6632e5e</td>\n",
       "      <td>0</td>\n",
       "      <td>10219.60</td>\n",
       "      <td>15785.09</td>\n",
       "      <td>397555.90</td>\n",
       "      <td>25</td>\n",
       "      <td>9</td>\n",
       "      <td>0</td>\n",
       "      <td>...</td>\n",
       "      <td>100.000000</td>\n",
       "      <td>9.029231e+03</td>\n",
       "      <td>3804.076893</td>\n",
       "      <td>0.0</td>\n",
       "      <td>0.0</td>\n",
       "      <td>0.0</td>\n",
       "      <td>1.0</td>\n",
       "      <td>11.0</td>\n",
       "      <td>Raiden</td>\n",
       "      <td>XENON</td>\n",
       "    </tr>\n",
       "    <tr>\n",
       "      <th>4</th>\n",
       "      <td>4</td>\n",
       "      <td>5</td>\n",
       "      <td>0x00062d1dd1afb6fb02540ddad9cdebfe568e0d89</td>\n",
       "      <td>0</td>\n",
       "      <td>36.61</td>\n",
       "      <td>10707.77</td>\n",
       "      <td>382472.42</td>\n",
       "      <td>4598</td>\n",
       "      <td>20</td>\n",
       "      <td>1</td>\n",
       "      <td>...</td>\n",
       "      <td>0.000000</td>\n",
       "      <td>4.500000e+04</td>\n",
       "      <td>13726.659220</td>\n",
       "      <td>0.0</td>\n",
       "      <td>0.0</td>\n",
       "      <td>0.0</td>\n",
       "      <td>6.0</td>\n",
       "      <td>27.0</td>\n",
       "      <td>StatusNetwork</td>\n",
       "      <td>EOS</td>\n",
       "    </tr>\n",
       "  </tbody>\n",
       "</table>\n",
       "<p>5 rows × 51 columns</p>\n",
       "</div>"
      ],
      "text/plain": [
       "   Unnamed: 0  Index                                     Address  FLAG  \\\n",
       "0           0      1  0x00009277775ac7d0d59eaad8fee3d10ac6c805e8     0   \n",
       "1           1      2  0x0002b44ddb1476db43c868bd494422ee4c136fed     0   \n",
       "2           2      3  0x0002bda54cb772d040f779e88eb453cac0daa244     0   \n",
       "3           3      4  0x00038e6ba2fd5c09aedb96697c8d7b8fa6632e5e     0   \n",
       "4           4      5  0x00062d1dd1afb6fb02540ddad9cdebfe568e0d89     0   \n",
       "\n",
       "   Avg min between sent tnx  Avg min between received tnx  \\\n",
       "0                    844.26                       1093.71   \n",
       "1                  12709.07                       2958.44   \n",
       "2                 246194.54                       2434.02   \n",
       "3                  10219.60                      15785.09   \n",
       "4                     36.61                      10707.77   \n",
       "\n",
       "   Time Diff between first and last (Mins)  Sent tnx  Received Tnx  \\\n",
       "0                                704785.63       721            89   \n",
       "1                               1218216.73        94             8   \n",
       "2                                516729.30         2            10   \n",
       "3                                397555.90        25             9   \n",
       "4                                382472.42      4598            20   \n",
       "\n",
       "   Number of Created Contracts  ...   ERC20 min val sent   ERC20 max val sent  \\\n",
       "0                            0  ...             0.000000         1.683100e+07   \n",
       "1                            0  ...             2.260809         2.260809e+00   \n",
       "2                            0  ...             0.000000         0.000000e+00   \n",
       "3                            0  ...           100.000000         9.029231e+03   \n",
       "4                            1  ...             0.000000         4.500000e+04   \n",
       "\n",
       "    ERC20 avg val sent   ERC20 min val sent contract  \\\n",
       "0        271779.920000                           0.0   \n",
       "1             2.260809                           0.0   \n",
       "2             0.000000                           0.0   \n",
       "3          3804.076893                           0.0   \n",
       "4         13726.659220                           0.0   \n",
       "\n",
       "    ERC20 max val sent contract   ERC20 avg val sent contract  \\\n",
       "0                           0.0                           0.0   \n",
       "1                           0.0                           0.0   \n",
       "2                           0.0                           0.0   \n",
       "3                           0.0                           0.0   \n",
       "4                           0.0                           0.0   \n",
       "\n",
       "    ERC20 uniq sent token name   ERC20 uniq rec token name  \\\n",
       "0                         39.0                        57.0   \n",
       "1                          1.0                         7.0   \n",
       "2                          0.0                         8.0   \n",
       "3                          1.0                        11.0   \n",
       "4                          6.0                        27.0   \n",
       "\n",
       "    ERC20 most sent token type   ERC20_most_rec_token_type  \n",
       "0                    Cofoundit                   Numeraire  \n",
       "1               Livepeer Token              Livepeer Token  \n",
       "2                         None                       XENON  \n",
       "3                       Raiden                       XENON  \n",
       "4                StatusNetwork                         EOS  \n",
       "\n",
       "[5 rows x 51 columns]"
      ]
     },
     "execution_count": 3,
     "metadata": {},
     "output_type": "execute_result"
    }
   ],
   "source": [
    "df.head()"
   ]
  },
  {
   "cell_type": "code",
   "execution_count": 4,
   "metadata": {},
   "outputs": [],
   "source": [
    "df.drop('Unnamed: 0', axis=1, inplace=True)\n",
    "df.drop('Address', axis=1, inplace=True)\n",
    "df.drop('Index', axis=1, inplace=True)"
   ]
  },
  {
   "cell_type": "code",
   "execution_count": 5,
   "metadata": {},
   "outputs": [
    {
     "name": "stdout",
     "output_type": "stream",
     "text": [
      "<class 'pandas.core.frame.DataFrame'>\n",
      "RangeIndex: 9841 entries, 0 to 9840\n",
      "Data columns (total 48 columns):\n",
      " #   Column                                                Non-Null Count  Dtype  \n",
      "---  ------                                                --------------  -----  \n",
      " 0   FLAG                                                  9841 non-null   int64  \n",
      " 1   Avg min between sent tnx                              9841 non-null   float64\n",
      " 2   Avg min between received tnx                          9841 non-null   float64\n",
      " 3   Time Diff between first and last (Mins)               9841 non-null   float64\n",
      " 4   Sent tnx                                              9841 non-null   int64  \n",
      " 5   Received Tnx                                          9841 non-null   int64  \n",
      " 6   Number of Created Contracts                           9841 non-null   int64  \n",
      " 7   Unique Received From Addresses                        9841 non-null   int64  \n",
      " 8   Unique Sent To Addresses                              9841 non-null   int64  \n",
      " 9   min value received                                    9841 non-null   float64\n",
      " 10  max value received                                    9841 non-null   float64\n",
      " 11  avg val received                                      9841 non-null   float64\n",
      " 12  min val sent                                          9841 non-null   float64\n",
      " 13  max val sent                                          9841 non-null   float64\n",
      " 14  avg val sent                                          9841 non-null   float64\n",
      " 15  min value sent to contract                            9841 non-null   float64\n",
      " 16  max val sent to contract                              9841 non-null   float64\n",
      " 17  avg value sent to contract                            9841 non-null   float64\n",
      " 18  total transactions (including tnx to create contract  9841 non-null   int64  \n",
      " 19  total Ether sent                                      9841 non-null   float64\n",
      " 20  total ether received                                  9841 non-null   float64\n",
      " 21  total ether sent contracts                            9841 non-null   float64\n",
      " 22  total ether balance                                   9841 non-null   float64\n",
      " 23   Total ERC20 tnxs                                     9012 non-null   float64\n",
      " 24   ERC20 total Ether received                           9012 non-null   float64\n",
      " 25   ERC20 total ether sent                               9012 non-null   float64\n",
      " 26   ERC20 total Ether sent contract                      9012 non-null   float64\n",
      " 27   ERC20 uniq sent addr                                 9012 non-null   float64\n",
      " 28   ERC20 uniq rec addr                                  9012 non-null   float64\n",
      " 29   ERC20 uniq sent addr.1                               9012 non-null   float64\n",
      " 30   ERC20 uniq rec contract addr                         9012 non-null   float64\n",
      " 31   ERC20 avg time between sent tnx                      9012 non-null   float64\n",
      " 32   ERC20 avg time between rec tnx                       9012 non-null   float64\n",
      " 33   ERC20 avg time between rec 2 tnx                     9012 non-null   float64\n",
      " 34   ERC20 avg time between contract tnx                  9012 non-null   float64\n",
      " 35   ERC20 min val rec                                    9012 non-null   float64\n",
      " 36   ERC20 max val rec                                    9012 non-null   float64\n",
      " 37   ERC20 avg val rec                                    9012 non-null   float64\n",
      " 38   ERC20 min val sent                                   9012 non-null   float64\n",
      " 39   ERC20 max val sent                                   9012 non-null   float64\n",
      " 40   ERC20 avg val sent                                   9012 non-null   float64\n",
      " 41   ERC20 min val sent contract                          9012 non-null   float64\n",
      " 42   ERC20 max val sent contract                          9012 non-null   float64\n",
      " 43   ERC20 avg val sent contract                          9012 non-null   float64\n",
      " 44   ERC20 uniq sent token name                           9012 non-null   float64\n",
      " 45   ERC20 uniq rec token name                            9012 non-null   float64\n",
      " 46   ERC20 most sent token type                           9000 non-null   object \n",
      " 47   ERC20_most_rec_token_type                            8990 non-null   object \n",
      "dtypes: float64(39), int64(7), object(2)\n",
      "memory usage: 3.6+ MB\n"
     ]
    }
   ],
   "source": [
    "df.info()"
   ]
  },
  {
   "cell_type": "markdown",
   "metadata": {},
   "source": [
    "Then we noticed that there are two features which are of `object` type. We decided to convert these features to `category` type for computational efficiency.\n",
    "\n",
    "Despite the fact that our dataset is not too large, we want to be cognizant of the fact that converting `object` variables to `category` datatype is a useful optimization technique for pandas dataframe and thus we want to __to make good coding practices a habit__).\n",
    "\n",
    "This is because, in pandas, the `object` data type is used to represent columns with strings, which can be very memory-intensive and slower to process compared to other data types. When you convert these columns to the `category` data type, pandas internally stores the unique values in a separate array and replaces the original strings with integer codes, which can lead to significant memory savings and faster computation."
   ]
  },
  {
   "cell_type": "code",
   "execution_count": 6,
   "metadata": {},
   "outputs": [],
   "source": [
    "categories = df.select_dtypes('O').columns.astype('category')\n",
    "df[categories] = df[categories].astype('category')"
   ]
  },
  {
   "cell_type": "markdown",
   "metadata": {},
   "source": [
    "# Proposed Solution\n",
    "\n",
    "We propose a solution using a decision-tree ensemble algorithm, in particular the XGBoost algorithm. We hypothesise that this algorithm will work well on the dataset due to the fact that XGBoost is known to work well on such dataset, i.e: XGBoost is a popular algorithm for binary classification tasks. We can further strengthen this hypothesis by first running multiple ML algorithms on the dataset: logistic regression, decision trees, and random forests. We can determine which one performed best on the dataset via metrics such as precision, recall, and F1 score. Implementing XGBoost on this dataset is as simple as using the XGBoost library."
   ]
  },
  {
   "cell_type": "markdown",
   "metadata": {},
   "source": [
    "# Evaluation Metrics\n",
    "\n",
    "We will be using a normalized confusion matrix and precision-recall curves to quantify both the benchmark and solution models. We believe these are the most appropriate evaluation metrics because of the fact that we are using classification models as mentioned above (decision trees and logistic regression) based on the context of our data and the fact that we want to have our model forecast and predict, we believe that implementing these two metrics would be most suitable. Additionally, we come to know that these evaluation metrics we chose have the mathematical foundation that makes logical sense for why they would be good evaluation metrics for our problem. For example, the confusion matrix is derived by comparing the predicted labels with the real labels regarding a set of data. The values that are implemented in the confusion matrix are true positive (TP) where the predicted label is positive and the real label is positive, false positive (FP) where the predicted label is positive but the real label is negative, true negative (TN) where the predicted label is negative and the real label is negative, and also false negative (FN) where the predicted label is positive but the real label is positive. For the precision-recall curve it's derived by calculating the precision and recall scores for the model at various threshold levels and it's mathematically represented by plotting percions versus recall at the various thresholds in which the threshold level would determine the probability threshold at which a positive class label is assigned by the model.\n",
    "\n",
    "Our goal going from the benchmark to the final model is to maximize the F1 score - the F1 score is the harmonic mean of precision and recall and since we are interested in minimizing both false positives and false negatives in our model. Thus, we will graphically interpret the performance of our model using a normalized confusion matrix and numerically through the F1 score. "
   ]
  },
  {
   "cell_type": "markdown",
   "metadata": {},
   "source": [
    "# Results"
   ]
  },
  {
   "cell_type": "markdown",
   "metadata": {},
   "source": [
    "### Data Analysis & Preprocessing"
   ]
  },
  {
   "cell_type": "markdown",
   "metadata": {},
   "source": [
    "First we decided to start with feature engineering. After preliminary data cleaning we noticed that there are many missing values, especially in the last few columns of the data. A lot of missing calues will inevitably hinder our analysis. While there are many ways to replace or drop NaN's to make sure we choose the right approach, we first take a look at the data to examine the missingness of our values"
   ]
  },
  {
   "cell_type": "code",
   "execution_count": 7,
   "metadata": {
    "tags": []
   },
   "outputs": [
    {
     "data": {
      "image/png": "[encoded data removed]",
      "text/plain": [
       "<Figure size 864x432 with 1 Axes>"
      ]
     },
     "metadata": {
      "needs_background": "light"
     },
     "output_type": "display_data"
    }
   ],
   "source": [
    "# Visualize missings pattern of the dataframe\n",
    "plt.figure(figsize=(12,6))\n",
    "sns.heatmap(df.isnull(), cbar=False)\n",
    "plt.show()"
   ]
  },
  {
   "cell_type": "code",
   "execution_count": 8,
   "metadata": {},
   "outputs": [
    {
     "data": {
      "text/plain": [
       "FLAG                                                      0\n",
       "Avg min between sent tnx                                  0\n",
       "Avg min between received tnx                              0\n",
       "Time Diff between first and last (Mins)                   0\n",
       "Sent tnx                                                  0\n",
       "Received Tnx                                              0\n",
       "Number of Created Contracts                               0\n",
       "Unique Received From Addresses                            0\n",
       "Unique Sent To Addresses                                  0\n",
       "min value received                                        0\n",
       "max value received                                        0\n",
       "avg val received                                          0\n",
       "min val sent                                              0\n",
       "max val sent                                              0\n",
       "avg val sent                                              0\n",
       "min value sent to contract                                0\n",
       "max val sent to contract                                  0\n",
       "avg value sent to contract                                0\n",
       "total transactions (including tnx to create contract      0\n",
       "total Ether sent                                          0\n",
       "total ether received                                      0\n",
       "total ether sent contracts                                0\n",
       "total ether balance                                       0\n",
       " Total ERC20 tnxs                                       829\n",
       " ERC20 total Ether received                             829\n",
       " ERC20 total ether sent                                 829\n",
       " ERC20 total Ether sent contract                        829\n",
       " ERC20 uniq sent addr                                   829\n",
       " ERC20 uniq rec addr                                    829\n",
       " ERC20 uniq sent addr.1                                 829\n",
       " ERC20 uniq rec contract addr                           829\n",
       " ERC20 avg time between sent tnx                        829\n",
       " ERC20 avg time between rec tnx                         829\n",
       " ERC20 avg time between rec 2 tnx                       829\n",
       " ERC20 avg time between contract tnx                    829\n",
       " ERC20 min val rec                                      829\n",
       " ERC20 max val rec                                      829\n",
       " ERC20 avg val rec                                      829\n",
       " ERC20 min val sent                                     829\n",
       " ERC20 max val sent                                     829\n",
       " ERC20 avg val sent                                     829\n",
       " ERC20 min val sent contract                            829\n",
       " ERC20 max val sent contract                            829\n",
       " ERC20 avg val sent contract                            829\n",
       " ERC20 uniq sent token name                             829\n",
       " ERC20 uniq rec token name                              829\n",
       " ERC20 most sent token type                             841\n",
       " ERC20_most_rec_token_type                              851\n",
       "dtype: int64"
      ]
     },
     "execution_count": 8,
     "metadata": {},
     "output_type": "execute_result"
    }
   ],
   "source": [
    "df.isna().sum()"
   ]
  },
  {
   "cell_type": "markdown",
   "metadata": {},
   "source": [
    "The white cells represent missing values since the default color map used by the `sns.heatmap` function treats a `True` value as `1` and a `False` value as `0`. Since the `isnull()` function of a Pandas dataframe returns a boolean dataframe with `True` values where there are `NaNs` and `False` values otherwise, the `NaN` values are represented as `1` or `True` values in the boolean dataframe. Therefore, when the `sns.heatmap` function receives this boolean dataframe as input, the `True` values are colored white by default.\n",
    "\n",
    "We can also find out the total number of missing values by using `df.isna().sum()` which sums over the total number of missing values of ever column and display them as a table as done baove"
   ]
  },
  {
   "cell_type": "code",
   "execution_count": 9,
   "metadata": {},
   "outputs": [
    {
     "name": "stdout",
     "output_type": "stream",
     "text": [
      "No. of unique values for - ERC20 most sent token type: 305\n",
      "No. of unique values for - ERC20_most_rec_token_type: 467\n"
     ]
    }
   ],
   "source": [
    "print(\"No. of unique values for - ERC20 most sent token type: \" + str(len(df[' ERC20 most sent token type'].value_counts())))\n",
    "print(\"No. of unique values for - ERC20_most_rec_token_type: \" + str(len(df[' ERC20_most_rec_token_type'].value_counts())))"
   ]
  },
  {
   "cell_type": "markdown",
   "metadata": {},
   "source": [
    "The last two features `ERC20 most sent token type` and `ERC20_most_rec_token_type` has the most number of missing values, so we choose to eliminate these columns from our analysis entirely (we might eliminate the columns with 829 NaNs too, but it is too early in the process to make an assumption at this point so we will make an assessment of that later in the checkpoint. But for now, let's remove these two columns.\n",
    "\n",
    "Another reason why we choose to remove these two features is because of the number of unique values they have"
   ]
  },
  {
   "cell_type": "code",
   "execution_count": 10,
   "metadata": {},
   "outputs": [],
   "source": [
    "df.drop(' ERC20 most sent token type', axis=1, inplace=True)\n",
    "df.drop(' ERC20_most_rec_token_type', axis=1, inplace=True)"
   ]
  },
  {
   "cell_type": "markdown",
   "metadata": {},
   "source": [
    "Now, let's fill the missing values for each of the remaining features `f` with the median of `f`:"
   ]
  },
  {
   "cell_type": "code",
   "execution_count": 11,
   "metadata": {},
   "outputs": [],
   "source": [
    "df.fillna(df.median(), inplace=True)"
   ]
  },
  {
   "cell_type": "code",
   "execution_count": 12,
   "metadata": {},
   "outputs": [
    {
     "data": {
      "image/png": "[encoded data removed]",
      "text/plain": [
       "<Figure size 864x432 with 1 Axes>"
      ]
     },
     "metadata": {
      "needs_background": "light"
     },
     "output_type": "display_data"
    }
   ],
   "source": [
    "# Visualize missings pattern of the dataframe\n",
    "plt.figure(figsize=(12,6))\n",
    "sns.heatmap(df.isnull(), cbar=False)\n",
    "plt.show() # This validates that there are no more missing values"
   ]
  },
  {
   "cell_type": "markdown",
   "metadata": {},
   "source": [
    "Next, we'd like to get rid of features with variance of 0 (or very small). Why? Because they may not contribute to the model we're building. If features `f1` and `f2`, for example, have zero variance, that basically imply all the values are same or almost the same - this does not bring any meaning to inform our model. i.e: these two features can be dropped without any negative impact on the model to be built.\n",
    "\n",
    "So, let's remove features with 0 variance and remove them."
   ]
  },
  {
   "cell_type": "code",
   "execution_count": 13,
   "metadata": {},
   "outputs": [
    {
     "data": {
      "text/plain": [
       " ERC20 avg time between sent tnx        0.0\n",
       " ERC20 avg time between rec tnx         0.0\n",
       " ERC20 avg time between rec 2 tnx       0.0\n",
       " ERC20 avg time between contract tnx    0.0\n",
       " ERC20 min val sent contract            0.0\n",
       " ERC20 max val sent contract            0.0\n",
       " ERC20 avg val sent contract            0.0\n",
       "dtype: float64"
      ]
     },
     "execution_count": 13,
     "metadata": {},
     "output_type": "execute_result"
    }
   ],
   "source": [
    "# Find out which features have 0 variance\n",
    "df.var()[df.var() == 0]"
   ]
  },
  {
   "cell_type": "code",
   "execution_count": 14,
   "metadata": {},
   "outputs": [
    {
     "data": {
      "text/plain": [
       "(9841, 39)"
      ]
     },
     "execution_count": 14,
     "metadata": {},
     "output_type": "execute_result"
    }
   ],
   "source": [
    "# Remove them\n",
    "variance_zero_features = df.var() == 0\n",
    "df.drop(df.var()[variance_zero_features].index, axis = 1, inplace = True)\n",
    "df.shape"
   ]
  },
  {
   "cell_type": "markdown",
   "metadata": {},
   "source": [
    "Our next step was to remove highly correlated features. This is because a group of highly correlated features will not bring additional information (or just very little information), but will increase the complexity of the algorithm, thus increasing the risk of errors. This would make the information we get from our error metrics f1 and the information on our type I and type II errors lesser too.\n",
    "\n",
    "Therefore, first we find out which features are highly correlated by plotting a heatmap:"
   ]
  },
  {
   "cell_type": "code",
   "execution_count": 15,
   "metadata": {},
   "outputs": [
    {
     "data": {
      "image/png": "[encoded data removed]",
      "text/plain": [
       "<Figure size 1296x720 with 2 Axes>"
      ]
     },
     "metadata": {
      "needs_background": "light"
     },
     "output_type": "display_data"
    }
   ],
   "source": [
    "corr = df.corr()\n",
    "fig, ax = plt.subplots(figsize=(18,10))\n",
    "sns.heatmap(corr, annot=False, cmap='coolwarm', center=0, linewidths=0.1, square=True)\n",
    "plt.show()"
   ]
  },
  {
   "cell_type": "code",
   "execution_count": 16,
   "metadata": {},
   "outputs": [],
   "source": [
    "# Now to drop the highly correlated features\n",
    "drop = ['total transactions (including tnx to create contract',\\\n",
    "        'total ether sent contracts',\\\n",
    "        'max val sent to contract',\\\n",
    "        ' ERC20 avg val rec',\\\n",
    "        ' ERC20 max val rec',\\\n",
    "        ' ERC20 min val rec',\\\n",
    "        ' ERC20 uniq rec contract addr',\\\n",
    "        'max val sent',\\\n",
    "        ' ERC20 avg val sent',\\\n",
    "        ' ERC20 min val sent',\\\n",
    "        ' ERC20 max val sent',\\\n",
    "        ' Total ERC20 tnxs',\\\n",
    "        'avg value sent to contract',\\\n",
    "        'Unique Sent To Addresses',\\\n",
    "        'Unique Received From Addresses',\\\n",
    "        'total ether received',\\\n",
    "        ' ERC20 uniq sent token name',\\\n",
    "        'min value received', \n",
    "        'min val sent',\\\n",
    "        ' ERC20 uniq rec addr']\n",
    "df.drop(drop, axis=1, inplace=True)"
   ]
  },
  {
   "cell_type": "code",
   "execution_count": 17,
   "metadata": {},
   "outputs": [
    {
     "data": {
      "image/png": "[encoded data removed]",
      "text/plain": [
       "<Figure size 1296x720 with 2 Axes>"
      ]
     },
     "metadata": {
      "needs_background": "light"
     },
     "output_type": "display_data"
    }
   ],
   "source": [
    "# Heatmap after dropping correlated features\n",
    "corr = df.corr()\n",
    "fig, ax = plt.subplots(figsize=(18,10))\n",
    "sns.heatmap(corr, annot=False, cmap='coolwarm', center=0, linewidths=0.1, square=True)\n",
    "plt.show()"
   ]
  },
  {
   "cell_type": "markdown",
   "metadata": {},
   "source": [
    "Then, we noted that there might also be features where lot's of values are 0, thus we decide to find those features as well"
   ]
  },
  {
   "cell_type": "code",
   "execution_count": 18,
   "metadata": {
    "scrolled": true
   },
   "outputs": [
    {
     "name": "stdout",
     "output_type": "stream",
     "text": [
      "Column: Avg min between sent tnx, Percentage of zeros: 35.79%\n",
      "Column: Avg min between received tnx, Percentage of zeros: 28.75%\n",
      "Column: Time Diff between first and last (Mins), Percentage of zeros: 6.41%\n",
      "Column: Sent tnx, Percentage of zeros: 20.48%\n",
      "Column: Received Tnx, Percentage of zeros: 5.6%\n",
      "Column: Number of Created Contracts, Percentage of zeros: 86.22%\n",
      "Column: max value received , Percentage of zeros: 7.18%\n",
      "Column: avg val received, Percentage of zeros: 7.2%\n",
      "Column: avg val sent, Percentage of zeros: 21.0%\n",
      "Column: min value sent to contract, Percentage of zeros: 99.98%\n",
      "Column: total Ether sent, Percentage of zeros: 21.0%\n",
      "Column: total ether balance, Percentage of zeros: 7.07%\n",
      "Column:  ERC20 total Ether received, Percentage of zeros: 45.12%\n",
      "Column:  ERC20 total ether sent, Percentage of zeros: 84.09%\n",
      "Column:  ERC20 total Ether sent contract, Percentage of zeros: 99.72%\n",
      "Column:  ERC20 uniq sent addr, Percentage of zeros: 84.09%\n",
      "Column:  ERC20 uniq sent addr.1, Percentage of zeros: 99.72%\n",
      "Column:  ERC20 uniq rec token name, Percentage of zeros: 45.11%\n"
     ]
    }
   ],
   "source": [
    "def percentage_of_zeros(df):\n",
    "    pz = {}\n",
    "    for c in df.columns[1:]: # Exclue `FLAG`\n",
    "        percent_zero = ((df[c] == 0).sum() / len(df[c])) * 100\n",
    "        pz[c] = percent_zero\n",
    "    return pz\n",
    "\n",
    "percent_zero = percentage_of_zeros(df)\n",
    "for c, p in percent_zero.items():\n",
    "    print(\"Column: {}, Percentage of zeros: {}%\".format(c, round(p, 2)))"
   ]
  },
  {
   "cell_type": "markdown",
   "metadata": {},
   "source": [
    "We decided that columns with the number of zeros being greater than 90% will not add more meaning to our model, but instead will only increase the number of errors."
   ]
  },
  {
   "cell_type": "code",
   "execution_count": 19,
   "metadata": {},
   "outputs": [
    {
     "name": "stdout",
     "output_type": "stream",
     "text": [
      "<class 'pandas.core.frame.DataFrame'>\n",
      "RangeIndex: 9841 entries, 0 to 9840\n",
      "Data columns (total 16 columns):\n",
      " #   Column                                   Non-Null Count  Dtype  \n",
      "---  ------                                   --------------  -----  \n",
      " 0   FLAG                                     9841 non-null   int64  \n",
      " 1   Avg min between sent tnx                 9841 non-null   float64\n",
      " 2   Avg min between received tnx             9841 non-null   float64\n",
      " 3   Time Diff between first and last (Mins)  9841 non-null   float64\n",
      " 4   Sent tnx                                 9841 non-null   int64  \n",
      " 5   Received Tnx                             9841 non-null   int64  \n",
      " 6   Number of Created Contracts              9841 non-null   int64  \n",
      " 7   max value received                       9841 non-null   float64\n",
      " 8   avg val received                         9841 non-null   float64\n",
      " 9   avg val sent                             9841 non-null   float64\n",
      " 10  total Ether sent                         9841 non-null   float64\n",
      " 11  total ether balance                      9841 non-null   float64\n",
      " 12   ERC20 total Ether received              9841 non-null   float64\n",
      " 13   ERC20 total ether sent                  9841 non-null   float64\n",
      " 14   ERC20 uniq sent addr                    9841 non-null   float64\n",
      " 15   ERC20 uniq rec token name               9841 non-null   float64\n",
      "dtypes: float64(12), int64(4)\n",
      "memory usage: 1.2 MB\n"
     ]
    }
   ],
   "source": [
    "mostly_zeros_features = [c for c, p in percent_zero.items() if p>90]\n",
    "df.drop(mostly_zeros_features, axis=1, inplace=True)\n",
    "df.info()"
   ]
  },
  {
   "cell_type": "code",
   "execution_count": 20,
   "metadata": {},
   "outputs": [
    {
     "data": {
      "text/plain": [
       "Index(['FLAG', 'Avg min between sent tnx', 'Avg min between received tnx',\n",
       "       'Time Diff between first and last (Mins)', 'Sent tnx', 'Received Tnx',\n",
       "       'Number of Created Contracts', 'max value received ',\n",
       "       'avg val received', 'avg val sent', 'total Ether sent',\n",
       "       'total ether balance', ' ERC20 total Ether received',\n",
       "       ' ERC20 total ether sent', ' ERC20 uniq sent addr',\n",
       "       ' ERC20 uniq rec token name'],\n",
       "      dtype='object')"
      ]
     },
     "execution_count": 20,
     "metadata": {},
     "output_type": "execute_result"
    }
   ],
   "source": [
    "df.columns"
   ]
  },
  {
   "cell_type": "markdown",
   "metadata": {},
   "source": [
    "After all this cleaning and preprocessing, we prepare the dataset that we will be building our final machine learning model on. First, we split the dataset into features `x` and labels `y`"
   ]
  },
  {
   "cell_type": "code",
   "execution_count": 21,
   "metadata": {},
   "outputs": [
    {
     "name": "stdout",
     "output_type": "stream",
     "text": [
      "X.shape: (9841, 15)\n",
      "y.shape: (9841,)\n"
     ]
    }
   ],
   "source": [
    "X = df.iloc[:, 1:]\n",
    "y = df.iloc[:, 0]\n",
    "print(\"X.shape:\", X.shape)\n",
    "print(\"y.shape:\", y.shape)"
   ]
  },
  {
   "cell_type": "code",
   "execution_count": 22,
   "metadata": {},
   "outputs": [
    {
     "name": "stdout",
     "output_type": "stream",
     "text": [
      "X_train.shape: (7872, 15)\n",
      "y_train.shape: (7872,)\n",
      "X_test.shape: (1969, 15)\n",
      "y_test.shape: (1969,)\n"
     ]
    }
   ],
   "source": [
    "from sklearn.model_selection import train_test_split\n",
    "\n",
    "# Let's use the conventional 80-20 rule, I believe it fits for\n",
    "# this dataset considering we have close to 10k datapoints\n",
    "X_train, X_test, y_train, y_test = train_test_split(\n",
    "    X, y, test_size = 0.2\n",
    ")\n",
    "print(\"X_train.shape:\", X_train.shape)\n",
    "print(\"y_train.shape:\", y_train.shape)\n",
    "print(\"X_test.shape:\", X_test.shape)\n",
    "print(\"y_test.shape:\", y_test.shape)"
   ]
  },
  {
   "cell_type": "markdown",
   "metadata": {},
   "source": [
    "Our next step is to standardize the data so that each feature behaves like a Gaussian distribution. Not only will this scale our features for the model, but also by the Law of Large Numbers, with large datasets, most naturally ocurring distributions approach the normal distribution"
   ]
  },
  {
   "cell_type": "code",
   "execution_count": 23,
   "metadata": {},
   "outputs": [],
   "source": [
    "from sklearn.preprocessing import PowerTransformer\n",
    "\n",
    "PT = PowerTransformer()\n",
    "X_train = PT.fit_transform(X_train)"
   ]
  },
  {
   "cell_type": "code",
   "execution_count": 24,
   "metadata": {
    "scrolled": true
   },
   "outputs": [
    {
     "data": {
      "image/png": "[encoded data removed]",
      "text/plain": [
       "<Figure size 1080x720 with 1 Axes>"
      ]
     },
     "metadata": {},
     "output_type": "display_data"
    }
   ],
   "source": [
    "pie, ax = plt.subplots(figsize=[15,10])\n",
    "labels = ['Non-fraud', 'Fraud']\n",
    "colors = ['#f9ae35', '#f64e38']\n",
    "plt.pie(x = df['FLAG'].value_counts(), autopct='%.2f%%', explode=[0.02]*2, labels=labels, pctdistance=0.5, textprops={'fontsize': 14}, colors = colors)\n",
    "plt.title('Target distribution')\n",
    "plt.show()"
   ]
  },
  {
   "cell_type": "markdown",
   "metadata": {},
   "source": [
    "On plotting this data we realize that our data is severely imbalanced"
   ]
  },
  {
   "cell_type": "markdown",
   "metadata": {},
   "source": [
    "We can fix this by using the SMOTE library. SMOTE is a library that acts like a data transform object similar to scikit-learn and helps create a new transformed version of the datas"
   ]
  },
  {
   "cell_type": "code",
   "execution_count": 25,
   "metadata": {},
   "outputs": [
    {
     "name": "stdout",
     "output_type": "stream",
     "text": [
      "X_train.shape: (12244, 15)\n",
      "y_train.shape: (12244,)\n"
     ]
    }
   ],
   "source": [
    "from imblearn.over_sampling import SMOTE\n",
    "oversample = SMOTE()\n",
    "X_train, y_train = oversample.fit_resample(X_train, y_train)\n",
    "\n",
    "print(\"X_train.shape:\", X_train.shape)\n",
    "print(\"y_train.shape:\", y_train.shape)"
   ]
  },
  {
   "cell_type": "code",
   "execution_count": 26,
   "metadata": {
    "scrolled": true
   },
   "outputs": [
    {
     "name": "stdout",
     "output_type": "stream",
     "text": [
      "Before applying SMOTE:\n",
      "Number of non-frauds: 7662\n",
      "Number of frauds: 2179\n",
      "\n",
      "After applying SMOTE:\n",
      "Number of non-frauds: 6122\n",
      "Number of frauds: 6122\n"
     ]
    }
   ],
   "source": [
    "print(\"Before applying SMOTE:\")\n",
    "print(\"Number of non-frauds:\", df['FLAG'].value_counts()[0])\n",
    "print(\"Number of frauds:\", df['FLAG'].value_counts()[1])\n",
    "\n",
    "print(\"\")\n",
    "\n",
    "print(\"After applying SMOTE:\")\n",
    "print(\"Number of non-frauds:\", sum(np.array(y_train)==0))\n",
    "print(\"Number of frauds:\", sum(np.array(y_train)==1))"
   ]
  },
  {
   "cell_type": "code",
   "execution_count": 27,
   "metadata": {},
   "outputs": [],
   "source": [
    "# Saving training and testing data as df for reference later when we use pipelines\n",
    "X_train_df = pd.DataFrame(X_train, columns = df.columns[1:])\n",
    "X_test_df = pd.DataFrame(X_test, columns = df.columns[1:])\n",
    "y_train_df = pd.DataFrame(y_train, columns = [df.columns[0]])\n",
    "y_test_df = pd.DataFrame(y_test, columns = [df.columns[0]])"
   ]
  },
  {
   "cell_type": "code",
   "execution_count": 28,
   "metadata": {},
   "outputs": [],
   "source": [
    "# Save the training and testing data\n",
    "np.save('X_train.npy', X_train)\n",
    "np.save('X_test.npy', X_test)\n",
    "np.save('y_train.npy', y_train)\n",
    "np.save('y_test.npy', y_test)"
   ]
  },
  {
   "cell_type": "code",
   "execution_count": 29,
   "metadata": {},
   "outputs": [],
   "source": [
    "import matplotlib.pyplot as plt"
   ]
  },
  {
   "cell_type": "code",
   "execution_count": 30,
   "metadata": {},
   "outputs": [],
   "source": [
    "# Load the dataset\n",
    "X_train = np.load('X_train.npy')\n",
    "X_test = np.load('X_test.npy')\n",
    "y_train = np.load('y_train.npy')\n",
    "y_test = np.load('y_test.npy')"
   ]
  },
  {
   "cell_type": "code",
   "execution_count": 31,
   "metadata": {},
   "outputs": [
    {
     "name": "stdout",
     "output_type": "stream",
     "text": [
      "X_train.shape: (12244, 15)\n",
      "y_train.shape: (12244,)\n",
      "X_test.shape: (1969, 15)\n",
      "y_test.shape: (1969,)\n"
     ]
    }
   ],
   "source": [
    "print(\"X_train.shape:\", X_train.shape)\n",
    "print(\"y_train.shape:\", y_train.shape)\n",
    "print(\"X_test.shape:\", X_test.shape)\n",
    "print(\"y_test.shape:\", y_test.shape)"
   ]
  },
  {
   "cell_type": "markdown",
   "metadata": {},
   "source": [
    "### Experimenting with multiple ML Algorithms (classifiers)"
   ]
  },
  {
   "cell_type": "markdown",
   "metadata": {},
   "source": [
    "Thus, after the above data exploration and preparation, we now move on to applying machine learning mdoels that will help us to shortlist promising models for our final machine learning algorithm"
   ]
  },
  {
   "cell_type": "markdown",
   "metadata": {},
   "source": [
    "We decided to experiment with the Support Vector Machine Classifier, Logistic Regression Classifier, Random Forest Classifier and then follow it up with an XGBoost algorithm like we had planned in our project proposal."
   ]
  },
  {
   "cell_type": "markdown",
   "metadata": {},
   "source": [
    "Thus, we first start with the Support Vector Machine Classifier since it is known to work remarkably well with medium-sized non linear datasets. Since our dataset is also medium sized and we anticipate that it has a lot of non linear features, we want to experiment with linear and non linear SVMs for classification tasks. Since our data has a lot of features, we will differentiate in the next half of the project (beyond checkpoint 1) between and experiment with the differences between non linear SVM (with perhaps some polynomial features in case we are not able to get a linear hard margin classification in our current experimentation for checkpoint 1)\n",
    "\n",
    "Moreover, we were cognizant of the fact that SVMs are sensitive to feature scaling. Thus, since we have prepared our data with feature scaling already, it makes sense to order this algorithm first in our analysis."
   ]
  },
  {
   "cell_type": "code",
   "execution_count": 32,
   "metadata": {},
   "outputs": [],
   "source": [
    "# 1. Support Vector Machine Classifier\n",
    "from sklearn.svm import SVC\n",
    "from sklearn.metrics import accuracy_score"
   ]
  },
  {
   "cell_type": "markdown",
   "metadata": {},
   "source": [
    "We decided to first use the Support Vector Machine Classifier "
   ]
  },
  {
   "cell_type": "code",
   "execution_count": 33,
   "metadata": {
    "scrolled": true
   },
   "outputs": [
    {
     "data": {
      "text/html": [
       "<style>#sk-container-id-1 {color: black;background-color: white;}#sk-container-id-1 pre{padding: 0;}#sk-container-id-1 div.sk-toggleable {background-color: white;}#sk-container-id-1 label.sk-toggleable__label {cursor: pointer;display: block;width: 100%;margin-bottom: 0;padding: 0.3em;box-sizing: border-box;text-align: center;}#sk-container-id-1 label.sk-toggleable__label-arrow:before {content: \"▸\";float: left;margin-right: 0.25em;color: #696969;}#sk-container-id-1 label.sk-toggleable__label-arrow:hover:before {color: black;}#sk-container-id-1 div.sk-estimator:hover label.sk-toggleable__label-arrow:before {color: black;}#sk-container-id-1 div.sk-toggleable__content {max-height: 0;max-width: 0;overflow: hidden;text-align: left;background-color: #f0f8ff;}#sk-container-id-1 div.sk-toggleable__content pre {margin: 0.2em;color: black;border-radius: 0.25em;background-color: #f0f8ff;}#sk-container-id-1 input.sk-toggleable__control:checked~div.sk-toggleable__content {max-height: 200px;max-width: 100%;overflow: auto;}#sk-container-id-1 input.sk-toggleable__control:checked~label.sk-toggleable__label-arrow:before {content: \"▾\";}#sk-container-id-1 div.sk-estimator input.sk-toggleable__control:checked~label.sk-toggleable__label {background-color: #d4ebff;}#sk-container-id-1 div.sk-label input.sk-toggleable__control:checked~label.sk-toggleable__label {background-color: #d4ebff;}#sk-container-id-1 input.sk-hidden--visually {border: 0;clip: rect(1px 1px 1px 1px);clip: rect(1px, 1px, 1px, 1px);height: 1px;margin: -1px;overflow: hidden;padding: 0;position: absolute;width: 1px;}#sk-container-id-1 div.sk-estimator {font-family: monospace;background-color: #f0f8ff;border: 1px dotted black;border-radius: 0.25em;box-sizing: border-box;margin-bottom: 0.5em;}#sk-container-id-1 div.sk-estimator:hover {background-color: #d4ebff;}#sk-container-id-1 div.sk-parallel-item::after {content: \"\";width: 100%;border-bottom: 1px solid gray;flex-grow: 1;}#sk-container-id-1 div.sk-label:hover label.sk-toggleable__label {background-color: #d4ebff;}#sk-container-id-1 div.sk-serial::before {content: \"\";position: absolute;border-left: 1px solid gray;box-sizing: border-box;top: 0;bottom: 0;left: 50%;z-index: 0;}#sk-container-id-1 div.sk-serial {display: flex;flex-direction: column;align-items: center;background-color: white;padding-right: 0.2em;padding-left: 0.2em;position: relative;}#sk-container-id-1 div.sk-item {position: relative;z-index: 1;}#sk-container-id-1 div.sk-parallel {display: flex;align-items: stretch;justify-content: center;background-color: white;position: relative;}#sk-container-id-1 div.sk-item::before, #sk-container-id-1 div.sk-parallel-item::before {content: \"\";position: absolute;border-left: 1px solid gray;box-sizing: border-box;top: 0;bottom: 0;left: 50%;z-index: -1;}#sk-container-id-1 div.sk-parallel-item {display: flex;flex-direction: column;z-index: 1;position: relative;background-color: white;}#sk-container-id-1 div.sk-parallel-item:first-child::after {align-self: flex-end;width: 50%;}#sk-container-id-1 div.sk-parallel-item:last-child::after {align-self: flex-start;width: 50%;}#sk-container-id-1 div.sk-parallel-item:only-child::after {width: 0;}#sk-container-id-1 div.sk-dashed-wrapped {border: 1px dashed gray;margin: 0 0.4em 0.5em 0.4em;box-sizing: border-box;padding-bottom: 0.4em;background-color: white;}#sk-container-id-1 div.sk-label label {font-family: monospace;font-weight: bold;display: inline-block;line-height: 1.2em;}#sk-container-id-1 div.sk-label-container {text-align: center;}#sk-container-id-1 div.sk-container {/* jupyter's `normalize.less` sets `[hidden] { display: none; }` but bootstrap.min.css set `[hidden] { display: none !important; }` so we also need the `!important` here to be able to override the default hidden behavior on the sphinx rendered scikit-learn.org. See: https://github.com/scikit-learn/scikit-learn/issues/21755 */display: inline-block !important;position: relative;}#sk-container-id-1 div.sk-text-repr-fallback {display: none;}</style><div id=\"sk-container-id-1\" class=\"sk-top-container\"><div class=\"sk-text-repr-fallback\"><pre>SVC(kernel=&#x27;linear&#x27;)</pre><b>In a Jupyter environment, please rerun this cell to show the HTML representation or trust the notebook. <br />On GitHub, the HTML representation is unable to render, please try loading this page with nbviewer.org.</b></div><div class=\"sk-container\" hidden><div class=\"sk-item\"><div class=\"sk-estimator sk-toggleable\"><input class=\"sk-toggleable__control sk-hidden--visually\" id=\"sk-estimator-id-1\" type=\"checkbox\" checked><label for=\"sk-estimator-id-1\" class=\"sk-toggleable__label sk-toggleable__label-arrow\">SVC</label><div class=\"sk-toggleable__content\"><pre>SVC(kernel=&#x27;linear&#x27;)</pre></div></div></div></div></div>"
      ],
      "text/plain": [
       "SVC(kernel='linear')"
      ]
     },
     "execution_count": 33,
     "metadata": {},
     "output_type": "execute_result"
    }
   ],
   "source": [
    "# 1.1 Using default parameters to train the model\n",
    "svm_clf = SVC(kernel='linear')\n",
    "svm_clf.fit(X_train, y_train)"
   ]
  },
  {
   "cell_type": "code",
   "execution_count": 34,
   "metadata": {},
   "outputs": [],
   "source": [
    "# Making predictions \n",
    "y_pred_svm = svm_clf.predict(X_test)"
   ]
  },
  {
   "cell_type": "code",
   "execution_count": 35,
   "metadata": {},
   "outputs": [
    {
     "name": "stdout",
     "output_type": "stream",
     "text": [
      "Accuracy of SVM classifier with linear kernel and default hyperparameters: 0.8059928897917725\n"
     ]
    }
   ],
   "source": [
    "# Evaluating the Model\n",
    "svm_acc = accuracy_score(y_test, y_pred_svm)\n",
    "print(\"Accuracy of SVM classifier with linear kernel and default hyperparameters:\", svm_acc)"
   ]
  },
  {
   "cell_type": "markdown",
   "metadata": {},
   "source": [
    "Thus we can see that already with a linear kernel and the default parameters, the SVM classifier has a pretty high accuracy score of 0.79. Thus, the SVM is definitely a ML model that we want to experiment more with (such as adding polynomial features and running a non linear svm, etc.) and we want to move forward with and augment with other ML algorithms in an ensemble that will give us an effective ML algorithm overall"
   ]
  },
  {
   "cell_type": "markdown",
   "metadata": {},
   "source": [
    "Next we experimented with Logistic Regression. Since the Logistic Regression model utilizes a sigmoid function to give probabilities, we hypothesize that adding it to an ensemble with an SVM classifier (which gives a more binary output of which side of the \"street\" the datapoint lies, we believe combining both in a model would make our ensemble machine learning model more robust."
   ]
  },
  {
   "cell_type": "code",
   "execution_count": 36,
   "metadata": {},
   "outputs": [],
   "source": [
    "# 2. Logistic Regression\n",
    "from sklearn.linear_model import LogisticRegression\n",
    "\n",
    "# 2.1 Using default hyperparameters to train the model\n",
    "log_reg_clf = LogisticRegression()\n",
    "log_reg_clf.fit(X_train, y_train)\n",
    "\n",
    "# 2.2 Making Predictions\n",
    "y_pred_logreg = log_reg_clf.predict(X_test)"
   ]
  },
  {
   "cell_type": "code",
   "execution_count": 37,
   "metadata": {
    "scrolled": true
   },
   "outputs": [
    {
     "name": "stdout",
     "output_type": "stream",
     "text": [
      "Accuracy of Logistic Regression classifier with default hyperparameters: 0.8217369222955815\n"
     ]
    }
   ],
   "source": [
    "# 2.3 Evaluating the Model\n",
    "log_reg_acc = accuracy_score(y_test, y_pred_logreg)\n",
    "print(\"Accuracy of Logistic Regression classifier with default hyperparameters:\", log_reg_acc)"
   ]
  },
  {
   "cell_type": "markdown",
   "metadata": {},
   "source": [
    "Thus since the Logistic Regression Classifier even with the default hyperparameters gives an accuracy of 0.81, we definitely believe that putting it in an ensemble machine learning algorithm with the SVM classifier will give us a much more powerful model to work with, with high accuracy, which is crucial for an ethereum fraud detection algorithm. The following cell contains the default parameters of our Logistic Regression Model"
   ]
  },
  {
   "cell_type": "code",
   "execution_count": 38,
   "metadata": {
    "scrolled": true
   },
   "outputs": [
    {
     "data": {
      "text/plain": [
       "{'C': 1.0,\n",
       " 'class_weight': None,\n",
       " 'dual': False,\n",
       " 'fit_intercept': True,\n",
       " 'intercept_scaling': 1,\n",
       " 'l1_ratio': None,\n",
       " 'max_iter': 100,\n",
       " 'multi_class': 'auto',\n",
       " 'n_jobs': None,\n",
       " 'penalty': 'l2',\n",
       " 'random_state': None,\n",
       " 'solver': 'lbfgs',\n",
       " 'tol': 0.0001,\n",
       " 'verbose': 0,\n",
       " 'warm_start': False}"
      ]
     },
     "execution_count": 38,
     "metadata": {},
     "output_type": "execute_result"
    }
   ],
   "source": [
    "log_reg_clf.get_params()"
   ]
  },
  {
   "cell_type": "markdown",
   "metadata": {},
   "source": [
    "Next we look at a Random Forest Classifier, which is a decision tree based classifier. Since we have a lot of features to include in our model even after extensive feature engineering, a random forest classifier which samples $\\sqrt{n}$ features (where n is the total number of features), this results in a tree with greater tree diversity, and has a higher emphaisis on lowering variance in the bias-variance tradeoff which often results in an overall better model in an ensemble"
   ]
  },
  {
   "cell_type": "code",
   "execution_count": 39,
   "metadata": {
    "scrolled": true
   },
   "outputs": [
    {
     "name": "stdout",
     "output_type": "stream",
     "text": [
      "Accuracy of Random Forest classifier with default hyperparameters: 0.8324022346368715\n"
     ]
    }
   ],
   "source": [
    "# 3. Random Forest Classifier\n",
    "from sklearn.ensemble import RandomForestClassifier\n",
    "\n",
    "# 3.1 Using default hyperparameters to train the model\n",
    "rf_clf = RandomForestClassifier()\n",
    "rf_clf.fit(X_train, y_train)\n",
    "\n",
    "# 3.2 Making Predictions\n",
    "y_pred_rf = rf_clf.predict(X_test)\n",
    "\n",
    "# 3.3 Evaluating the Model\n",
    "rf_acc = accuracy_score(y_test, y_pred_rf)\n",
    "print(\"Accuracy of Random Forest classifier with default hyperparameters:\", rf_acc)"
   ]
  },
  {
   "cell_type": "markdown",
   "metadata": {},
   "source": [
    "With the high accuracy of 0.833 we definitely want to include the Random Forest Classifier in our algorithm in order to augment the SVM and Logistic Regression classifiers in an ensemble. Finally, we look at teh XGBoost Classifer"
   ]
  },
  {
   "cell_type": "code",
   "execution_count": 40,
   "metadata": {},
   "outputs": [
    {
     "data": {
      "text/html": [
       "<style>#sk-container-id-2 {color: black;background-color: white;}#sk-container-id-2 pre{padding: 0;}#sk-container-id-2 div.sk-toggleable {background-color: white;}#sk-container-id-2 label.sk-toggleable__label {cursor: pointer;display: block;width: 100%;margin-bottom: 0;padding: 0.3em;box-sizing: border-box;text-align: center;}#sk-container-id-2 label.sk-toggleable__label-arrow:before {content: \"▸\";float: left;margin-right: 0.25em;color: #696969;}#sk-container-id-2 label.sk-toggleable__label-arrow:hover:before {color: black;}#sk-container-id-2 div.sk-estimator:hover label.sk-toggleable__label-arrow:before {color: black;}#sk-container-id-2 div.sk-toggleable__content {max-height: 0;max-width: 0;overflow: hidden;text-align: left;background-color: #f0f8ff;}#sk-container-id-2 div.sk-toggleable__content pre {margin: 0.2em;color: black;border-radius: 0.25em;background-color: #f0f8ff;}#sk-container-id-2 input.sk-toggleable__control:checked~div.sk-toggleable__content {max-height: 200px;max-width: 100%;overflow: auto;}#sk-container-id-2 input.sk-toggleable__control:checked~label.sk-toggleable__label-arrow:before {content: \"▾\";}#sk-container-id-2 div.sk-estimator input.sk-toggleable__control:checked~label.sk-toggleable__label {background-color: #d4ebff;}#sk-container-id-2 div.sk-label input.sk-toggleable__control:checked~label.sk-toggleable__label {background-color: #d4ebff;}#sk-container-id-2 input.sk-hidden--visually {border: 0;clip: rect(1px 1px 1px 1px);clip: rect(1px, 1px, 1px, 1px);height: 1px;margin: -1px;overflow: hidden;padding: 0;position: absolute;width: 1px;}#sk-container-id-2 div.sk-estimator {font-family: monospace;background-color: #f0f8ff;border: 1px dotted black;border-radius: 0.25em;box-sizing: border-box;margin-bottom: 0.5em;}#sk-container-id-2 div.sk-estimator:hover {background-color: #d4ebff;}#sk-container-id-2 div.sk-parallel-item::after {content: \"\";width: 100%;border-bottom: 1px solid gray;flex-grow: 1;}#sk-container-id-2 div.sk-label:hover label.sk-toggleable__label {background-color: #d4ebff;}#sk-container-id-2 div.sk-serial::before {content: \"\";position: absolute;border-left: 1px solid gray;box-sizing: border-box;top: 0;bottom: 0;left: 50%;z-index: 0;}#sk-container-id-2 div.sk-serial {display: flex;flex-direction: column;align-items: center;background-color: white;padding-right: 0.2em;padding-left: 0.2em;position: relative;}#sk-container-id-2 div.sk-item {position: relative;z-index: 1;}#sk-container-id-2 div.sk-parallel {display: flex;align-items: stretch;justify-content: center;background-color: white;position: relative;}#sk-container-id-2 div.sk-item::before, #sk-container-id-2 div.sk-parallel-item::before {content: \"\";position: absolute;border-left: 1px solid gray;box-sizing: border-box;top: 0;bottom: 0;left: 50%;z-index: -1;}#sk-container-id-2 div.sk-parallel-item {display: flex;flex-direction: column;z-index: 1;position: relative;background-color: white;}#sk-container-id-2 div.sk-parallel-item:first-child::after {align-self: flex-end;width: 50%;}#sk-container-id-2 div.sk-parallel-item:last-child::after {align-self: flex-start;width: 50%;}#sk-container-id-2 div.sk-parallel-item:only-child::after {width: 0;}#sk-container-id-2 div.sk-dashed-wrapped {border: 1px dashed gray;margin: 0 0.4em 0.5em 0.4em;box-sizing: border-box;padding-bottom: 0.4em;background-color: white;}#sk-container-id-2 div.sk-label label {font-family: monospace;font-weight: bold;display: inline-block;line-height: 1.2em;}#sk-container-id-2 div.sk-label-container {text-align: center;}#sk-container-id-2 div.sk-container {/* jupyter's `normalize.less` sets `[hidden] { display: none; }` but bootstrap.min.css set `[hidden] { display: none !important; }` so we also need the `!important` here to be able to override the default hidden behavior on the sphinx rendered scikit-learn.org. See: https://github.com/scikit-learn/scikit-learn/issues/21755 */display: inline-block !important;position: relative;}#sk-container-id-2 div.sk-text-repr-fallback {display: none;}</style><div id=\"sk-container-id-2\" class=\"sk-top-container\"><div class=\"sk-text-repr-fallback\"><pre>XGBClassifier(base_score=None, booster=None, callbacks=None,\n",
       "              colsample_bylevel=None, colsample_bynode=None,\n",
       "              colsample_bytree=None, early_stopping_rounds=None,\n",
       "              enable_categorical=False, eval_metric=None, feature_types=None,\n",
       "              gamma=None, gpu_id=None, grow_policy=None, importance_type=None,\n",
       "              interaction_constraints=None, learning_rate=None, max_bin=None,\n",
       "              max_cat_threshold=None, max_cat_to_onehot=None,\n",
       "              max_delta_step=None, max_depth=None, max_leaves=None,\n",
       "              min_child_weight=None, missing=nan, monotone_constraints=None,\n",
       "              n_estimators=100, n_jobs=None, num_parallel_tree=None,\n",
       "              predictor=None, random_state=None, ...)</pre><b>In a Jupyter environment, please rerun this cell to show the HTML representation or trust the notebook. <br />On GitHub, the HTML representation is unable to render, please try loading this page with nbviewer.org.</b></div><div class=\"sk-container\" hidden><div class=\"sk-item\"><div class=\"sk-estimator sk-toggleable\"><input class=\"sk-toggleable__control sk-hidden--visually\" id=\"sk-estimator-id-2\" type=\"checkbox\" checked><label for=\"sk-estimator-id-2\" class=\"sk-toggleable__label sk-toggleable__label-arrow\">XGBClassifier</label><div class=\"sk-toggleable__content\"><pre>XGBClassifier(base_score=None, booster=None, callbacks=None,\n",
       "              colsample_bylevel=None, colsample_bynode=None,\n",
       "              colsample_bytree=None, early_stopping_rounds=None,\n",
       "              enable_categorical=False, eval_metric=None, feature_types=None,\n",
       "              gamma=None, gpu_id=None, grow_policy=None, importance_type=None,\n",
       "              interaction_constraints=None, learning_rate=None, max_bin=None,\n",
       "              max_cat_threshold=None, max_cat_to_onehot=None,\n",
       "              max_delta_step=None, max_depth=None, max_leaves=None,\n",
       "              min_child_weight=None, missing=nan, monotone_constraints=None,\n",
       "              n_estimators=100, n_jobs=None, num_parallel_tree=None,\n",
       "              predictor=None, random_state=None, ...)</pre></div></div></div></div></div>"
      ],
      "text/plain": [
       "XGBClassifier(base_score=None, booster=None, callbacks=None,\n",
       "              colsample_bylevel=None, colsample_bynode=None,\n",
       "              colsample_bytree=None, early_stopping_rounds=None,\n",
       "              enable_categorical=False, eval_metric=None, feature_types=None,\n",
       "              gamma=None, gpu_id=None, grow_policy=None, importance_type=None,\n",
       "              interaction_constraints=None, learning_rate=None, max_bin=None,\n",
       "              max_cat_threshold=None, max_cat_to_onehot=None,\n",
       "              max_delta_step=None, max_depth=None, max_leaves=None,\n",
       "              min_child_weight=None, missing=nan, monotone_constraints=None,\n",
       "              n_estimators=100, n_jobs=None, num_parallel_tree=None,\n",
       "              predictor=None, random_state=None, ...)"
      ]
     },
     "execution_count": 40,
     "metadata": {},
     "output_type": "execute_result"
    }
   ],
   "source": [
    "# 4. XGBoost Classifier\n",
    "import xgboost as xgb \n",
    "\n",
    "# 4.1 Using default hyperparameters to train the model\n",
    "xgb_clf = xgb.XGBClassifier()\n",
    "xgb_clf.fit(X_train, y_train)"
   ]
  },
  {
   "cell_type": "code",
   "execution_count": 41,
   "metadata": {},
   "outputs": [],
   "source": [
    "# 4.2 Making Predictions\n",
    "y_pred_xgb = xgb_clf.predict(X_test)"
   ]
  },
  {
   "cell_type": "code",
   "execution_count": 42,
   "metadata": {},
   "outputs": [
    {
     "name": "stdout",
     "output_type": "stream",
     "text": [
      "Accuracy of XGBoost classifier with default hyperparameters: 0.8318943626206196\n"
     ]
    }
   ],
   "source": [
    "# 4.3 Evaluating the model\n",
    "xgb_acc = accuracy_score(y_test, y_pred_xgb)\n",
    "print(\"Accuracy of XGBoost classifier with default hyperparameters:\", xgb_acc)"
   ]
  },
  {
   "cell_type": "markdown",
   "metadata": {},
   "source": [
    "Thus we see that the XGBoost gives an accuracy score similar to the Random Forest and Logistic Regression Classifiers. Therefore, beyond our checkpoint, we also want to reassess whether this model will help improve our ensemble machine learning algorithm overall. "
   ]
  },
  {
   "cell_type": "markdown",
   "metadata": {},
   "source": [
    "### Altering Evaluation Metrics to Meet our Goals"
   ]
  },
  {
   "cell_type": "markdown",
   "metadata": {},
   "source": [
    "From our initial analysis we were extremely happy to find very high accuracy scores for all our classifiers. However, as the quarter progressed and we learned more about the different evaluation metrics in class, we realized that accuracy might not be the best evaluation metric for us, especially since we want our classifier to be sensitive to false positives and false negatives. Thus, we tweaked our evaluation metric to now also look at F1-score - which is the harmonic mean of precision and recall. This will better reflect the performance of our classifier on data. Thus, we first proceed by evaluating the performance of each component of our baseline model, that is, we will calculate the F1 score for each of the classifiers in our baseline model."
   ]
  },
  {
   "cell_type": "code",
   "execution_count": 43,
   "metadata": {
    "tags": []
   },
   "outputs": [
    {
     "name": "stdout",
     "output_type": "stream",
     "text": [
      "F1 Score of SVM classifier with linear kernel and default hyperparameters: 0.3054545454545454\n"
     ]
    },
    {
     "data": {
      "image/png": "[encoded data removed]",
      "text/plain": [
       "<Figure size 432x288 with 2 Axes>"
      ]
     },
     "metadata": {
      "needs_background": "light"
     },
     "output_type": "display_data"
    }
   ],
   "source": [
    "# First evaluating our SVM model\n",
    "svm_f1 = f1_score(y_test, y_pred_svm)\n",
    "print(\"F1 Score of SVM classifier with linear kernel and default hyperparameters:\", svm_f1)\n",
    "disp = ConfusionMatrixDisplay(confusion_matrix(y_test, y_pred_svm), display_labels=svm_clf.classes_)\n",
    "disp.plot()\n",
    "plt.show()"
   ]
  },
  {
   "cell_type": "markdown",
   "metadata": {},
   "source": [
    "Thus we can see that our SVM classifier has a poor F1 score of just 0.33 which is far different from the accuracy score that we saw earlier. However, this is more reflective of the true performance of our model. "
   ]
  },
  {
   "cell_type": "code",
   "execution_count": 44,
   "metadata": {},
   "outputs": [
    {
     "name": "stdout",
     "output_type": "stream",
     "text": [
      "F1 Score of Logistic Regression classifier with default hyperparameters: 0.3184466019417475\n"
     ]
    },
    {
     "data": {
      "image/png": "[encoded data removed]",
      "text/plain": [
       "<Figure size 432x288 with 2 Axes>"
      ]
     },
     "metadata": {
      "needs_background": "light"
     },
     "output_type": "display_data"
    }
   ],
   "source": [
    "# Next evaluating our Logistic Regression model\n",
    "log_reg_f1 = f1_score(y_test, y_pred_logreg)\n",
    "print(\"F1 Score of Logistic Regression classifier with default hyperparameters:\", log_reg_f1)\n",
    "disp = ConfusionMatrixDisplay(confusion_matrix(y_test, y_pred_logreg), display_labels=log_reg_clf.classes_)\n",
    "disp.plot()\n",
    "plt.show()"
   ]
  },
  {
   "cell_type": "code",
   "execution_count": 45,
   "metadata": {},
   "outputs": [
    {
     "name": "stdout",
     "output_type": "stream",
     "text": [
      "Accuracy of Random Forest classifier with default hyperparameters: 0.3999999999999999\n"
     ]
    },
    {
     "data": {
      "image/png": "[encoded data removed]",
      "text/plain": [
       "<Figure size 432x288 with 2 Axes>"
      ]
     },
     "metadata": {
      "needs_background": "light"
     },
     "output_type": "display_data"
    }
   ],
   "source": [
    "# Next evaluating our Logistic Regression model\n",
    "rf_f1 = f1_score(y_test, y_pred_rf)\n",
    "print(\"Accuracy of Random Forest classifier with default hyperparameters:\", rf_f1)\n",
    "disp = ConfusionMatrixDisplay(confusion_matrix(y_test, y_pred_rf), display_labels=rf_clf.classes_)\n",
    "disp.plot()\n",
    "plt.show()"
   ]
  },
  {
   "cell_type": "markdown",
   "metadata": {},
   "source": [
    "Thus we see that of the three classifiers, our RandomForest Classifier performed the best. Later on we will try to see if the Logistic Regression Classifier can be improved with a different threshold for probability classification and whether that would help us in improving precision and recall"
   ]
  },
  {
   "cell_type": "code",
   "execution_count": 46,
   "metadata": {
    "scrolled": true
   },
   "outputs": [
    {
     "name": "stdout",
     "output_type": "stream",
     "text": [
      "F1 Score of XGBoost classifier with default hyperparameters: 0.40144665461121165\n"
     ]
    },
    {
     "data": {
      "image/png": "[encoded data removed]",
      "text/plain": [
       "<Figure size 432x288 with 2 Axes>"
      ]
     },
     "metadata": {
      "needs_background": "light"
     },
     "output_type": "display_data"
    }
   ],
   "source": [
    "xgb_f1 = f1_score(y_test, y_pred_xgb)\n",
    "print(\"F1 Score of XGBoost classifier with default hyperparameters:\", xgb_f1)\n",
    "disp = ConfusionMatrixDisplay(confusion_matrix(y_test, y_pred_xgb), display_labels=xgb_clf.classes_)\n",
    "disp.plot()\n",
    "plt.show()"
   ]
  },
  {
   "cell_type": "markdown",
   "metadata": {},
   "source": [
    "We see that the XGBoost classifier also works better than the other classifiers, and therefore we will see if we can try to improve it"
   ]
  },
  {
   "cell_type": "markdown",
   "metadata": {},
   "source": [
    "### Using Grid Search to Find Most Meaningful Features"
   ]
  },
  {
   "cell_type": "markdown",
   "metadata": {},
   "source": [
    "Before we go any further let's look at the features we have once again"
   ]
  },
  {
   "cell_type": "code",
   "execution_count": 47,
   "metadata": {
    "scrolled": true
   },
   "outputs": [
    {
     "data": {
      "text/html": [
       "<div>\n",
       "<style scoped>\n",
       "    .dataframe tbody tr th:only-of-type {\n",
       "        vertical-align: middle;\n",
       "    }\n",
       "\n",
       "    .dataframe tbody tr th {\n",
       "        vertical-align: top;\n",
       "    }\n",
       "\n",
       "    .dataframe thead th {\n",
       "        text-align: right;\n",
       "    }\n",
       "</style>\n",
       "<table border=\"1\" class=\"dataframe\">\n",
       "  <thead>\n",
       "    <tr style=\"text-align: right;\">\n",
       "      <th></th>\n",
       "      <th>Avg min between sent tnx</th>\n",
       "      <th>Avg min between received tnx</th>\n",
       "      <th>Time Diff between first and last (Mins)</th>\n",
       "      <th>Sent tnx</th>\n",
       "      <th>Received Tnx</th>\n",
       "      <th>Number of Created Contracts</th>\n",
       "      <th>max value received</th>\n",
       "      <th>avg val received</th>\n",
       "      <th>avg val sent</th>\n",
       "      <th>total Ether sent</th>\n",
       "      <th>total ether balance</th>\n",
       "      <th>ERC20 total Ether received</th>\n",
       "      <th>ERC20 total ether sent</th>\n",
       "      <th>ERC20 uniq sent addr</th>\n",
       "      <th>ERC20 uniq rec token name</th>\n",
       "    </tr>\n",
       "  </thead>\n",
       "  <tbody>\n",
       "    <tr>\n",
       "      <th>count</th>\n",
       "      <td>9841.000000</td>\n",
       "      <td>9841.000000</td>\n",
       "      <td>9.841000e+03</td>\n",
       "      <td>9841.000000</td>\n",
       "      <td>9841.000000</td>\n",
       "      <td>9841.000000</td>\n",
       "      <td>9841.000000</td>\n",
       "      <td>9841.000000</td>\n",
       "      <td>9841.000000</td>\n",
       "      <td>9.841000e+03</td>\n",
       "      <td>9.841000e+03</td>\n",
       "      <td>9.841000e+03</td>\n",
       "      <td>9.841000e+03</td>\n",
       "      <td>9841.000000</td>\n",
       "      <td>9841.000000</td>\n",
       "    </tr>\n",
       "    <tr>\n",
       "      <th>mean</th>\n",
       "      <td>5086.878721</td>\n",
       "      <td>8004.851184</td>\n",
       "      <td>2.183333e+05</td>\n",
       "      <td>115.931714</td>\n",
       "      <td>163.700945</td>\n",
       "      <td>3.729702</td>\n",
       "      <td>523.152481</td>\n",
       "      <td>100.711721</td>\n",
       "      <td>44.755731</td>\n",
       "      <td>1.016092e+04</td>\n",
       "      <td>1.477395e+03</td>\n",
       "      <td>1.187015e+08</td>\n",
       "      <td>1.270022e+07</td>\n",
       "      <td>5.163093</td>\n",
       "      <td>4.504319</td>\n",
       "    </tr>\n",
       "    <tr>\n",
       "      <th>std</th>\n",
       "      <td>21486.549974</td>\n",
       "      <td>23081.714801</td>\n",
       "      <td>3.229379e+05</td>\n",
       "      <td>757.226361</td>\n",
       "      <td>940.836550</td>\n",
       "      <td>141.445583</td>\n",
       "      <td>13008.821539</td>\n",
       "      <td>2885.002236</td>\n",
       "      <td>239.080215</td>\n",
       "      <td>3.583227e+05</td>\n",
       "      <td>2.424254e+05</td>\n",
       "      <td>1.008496e+10</td>\n",
       "      <td>1.129580e+09</td>\n",
       "      <td>100.733483</td>\n",
       "      <td>15.995935</td>\n",
       "    </tr>\n",
       "    <tr>\n",
       "      <th>min</th>\n",
       "      <td>0.000000</td>\n",
       "      <td>0.000000</td>\n",
       "      <td>0.000000e+00</td>\n",
       "      <td>0.000000</td>\n",
       "      <td>0.000000</td>\n",
       "      <td>0.000000</td>\n",
       "      <td>0.000000</td>\n",
       "      <td>0.000000</td>\n",
       "      <td>0.000000</td>\n",
       "      <td>0.000000e+00</td>\n",
       "      <td>-1.560535e+07</td>\n",
       "      <td>0.000000e+00</td>\n",
       "      <td>0.000000e+00</td>\n",
       "      <td>0.000000</td>\n",
       "      <td>0.000000</td>\n",
       "    </tr>\n",
       "    <tr>\n",
       "      <th>25%</th>\n",
       "      <td>0.000000</td>\n",
       "      <td>0.000000</td>\n",
       "      <td>3.169300e+02</td>\n",
       "      <td>1.000000</td>\n",
       "      <td>1.000000</td>\n",
       "      <td>0.000000</td>\n",
       "      <td>1.000000</td>\n",
       "      <td>0.426905</td>\n",
       "      <td>0.086184</td>\n",
       "      <td>2.262059e-01</td>\n",
       "      <td>6.214900e-04</td>\n",
       "      <td>0.000000e+00</td>\n",
       "      <td>0.000000e+00</td>\n",
       "      <td>0.000000</td>\n",
       "      <td>0.000000</td>\n",
       "    </tr>\n",
       "    <tr>\n",
       "      <th>50%</th>\n",
       "      <td>17.340000</td>\n",
       "      <td>509.770000</td>\n",
       "      <td>4.663703e+04</td>\n",
       "      <td>3.000000</td>\n",
       "      <td>4.000000</td>\n",
       "      <td>0.000000</td>\n",
       "      <td>6.000000</td>\n",
       "      <td>1.729730</td>\n",
       "      <td>1.606000</td>\n",
       "      <td>1.248680e+01</td>\n",
       "      <td>1.722000e-03</td>\n",
       "      <td>1.000000e-12</td>\n",
       "      <td>0.000000e+00</td>\n",
       "      <td>0.000000</td>\n",
       "      <td>1.000000</td>\n",
       "    </tr>\n",
       "    <tr>\n",
       "      <th>75%</th>\n",
       "      <td>565.470000</td>\n",
       "      <td>5480.390000</td>\n",
       "      <td>3.040710e+05</td>\n",
       "      <td>11.000000</td>\n",
       "      <td>27.000000</td>\n",
       "      <td>0.000000</td>\n",
       "      <td>67.067040</td>\n",
       "      <td>22.000000</td>\n",
       "      <td>21.999380</td>\n",
       "      <td>1.009990e+02</td>\n",
       "      <td>4.452000e-02</td>\n",
       "      <td>2.214800e+01</td>\n",
       "      <td>0.000000e+00</td>\n",
       "      <td>0.000000</td>\n",
       "      <td>2.000000</td>\n",
       "    </tr>\n",
       "    <tr>\n",
       "      <th>max</th>\n",
       "      <td>430287.670000</td>\n",
       "      <td>482175.490000</td>\n",
       "      <td>1.954861e+06</td>\n",
       "      <td>10000.000000</td>\n",
       "      <td>10000.000000</td>\n",
       "      <td>9995.000000</td>\n",
       "      <td>800000.000000</td>\n",
       "      <td>283618.831600</td>\n",
       "      <td>12000.000000</td>\n",
       "      <td>2.858096e+07</td>\n",
       "      <td>1.428864e+07</td>\n",
       "      <td>1.000020e+12</td>\n",
       "      <td>1.120000e+11</td>\n",
       "      <td>6582.000000</td>\n",
       "      <td>737.000000</td>\n",
       "    </tr>\n",
       "  </tbody>\n",
       "</table>\n",
       "</div>"
      ],
      "text/plain": [
       "       Avg min between sent tnx  Avg min between received tnx  \\\n",
       "count               9841.000000                   9841.000000   \n",
       "mean                5086.878721                   8004.851184   \n",
       "std                21486.549974                  23081.714801   \n",
       "min                    0.000000                      0.000000   \n",
       "25%                    0.000000                      0.000000   \n",
       "50%                   17.340000                    509.770000   \n",
       "75%                  565.470000                   5480.390000   \n",
       "max               430287.670000                 482175.490000   \n",
       "\n",
       "       Time Diff between first and last (Mins)      Sent tnx  Received Tnx  \\\n",
       "count                             9.841000e+03   9841.000000   9841.000000   \n",
       "mean                              2.183333e+05    115.931714    163.700945   \n",
       "std                               3.229379e+05    757.226361    940.836550   \n",
       "min                               0.000000e+00      0.000000      0.000000   \n",
       "25%                               3.169300e+02      1.000000      1.000000   \n",
       "50%                               4.663703e+04      3.000000      4.000000   \n",
       "75%                               3.040710e+05     11.000000     27.000000   \n",
       "max                               1.954861e+06  10000.000000  10000.000000   \n",
       "\n",
       "       Number of Created Contracts  max value received   avg val received  \\\n",
       "count                  9841.000000          9841.000000       9841.000000   \n",
       "mean                      3.729702           523.152481        100.711721   \n",
       "std                     141.445583         13008.821539       2885.002236   \n",
       "min                       0.000000             0.000000          0.000000   \n",
       "25%                       0.000000             1.000000          0.426905   \n",
       "50%                       0.000000             6.000000          1.729730   \n",
       "75%                       0.000000            67.067040         22.000000   \n",
       "max                    9995.000000        800000.000000     283618.831600   \n",
       "\n",
       "       avg val sent  total Ether sent  total ether balance  \\\n",
       "count   9841.000000      9.841000e+03         9.841000e+03   \n",
       "mean      44.755731      1.016092e+04         1.477395e+03   \n",
       "std      239.080215      3.583227e+05         2.424254e+05   \n",
       "min        0.000000      0.000000e+00        -1.560535e+07   \n",
       "25%        0.086184      2.262059e-01         6.214900e-04   \n",
       "50%        1.606000      1.248680e+01         1.722000e-03   \n",
       "75%       21.999380      1.009990e+02         4.452000e-02   \n",
       "max    12000.000000      2.858096e+07         1.428864e+07   \n",
       "\n",
       "        ERC20 total Ether received   ERC20 total ether sent  \\\n",
       "count                 9.841000e+03             9.841000e+03   \n",
       "mean                  1.187015e+08             1.270022e+07   \n",
       "std                   1.008496e+10             1.129580e+09   \n",
       "min                   0.000000e+00             0.000000e+00   \n",
       "25%                   0.000000e+00             0.000000e+00   \n",
       "50%                   1.000000e-12             0.000000e+00   \n",
       "75%                   2.214800e+01             0.000000e+00   \n",
       "max                   1.000020e+12             1.120000e+11   \n",
       "\n",
       "        ERC20 uniq sent addr   ERC20 uniq rec token name  \n",
       "count            9841.000000                 9841.000000  \n",
       "mean                5.163093                    4.504319  \n",
       "std               100.733483                   15.995935  \n",
       "min                 0.000000                    0.000000  \n",
       "25%                 0.000000                    0.000000  \n",
       "50%                 0.000000                    1.000000  \n",
       "75%                 0.000000                    2.000000  \n",
       "max              6582.000000                  737.000000  "
      ]
     },
     "execution_count": 47,
     "metadata": {},
     "output_type": "execute_result"
    }
   ],
   "source": [
    "X.describe()"
   ]
  },
  {
   "cell_type": "code",
   "execution_count": 48,
   "metadata": {},
   "outputs": [],
   "source": [
    "from sklearn.compose import ColumnTransformer\n",
    "from sklearn.preprocessing import FunctionTransformer\n",
    "from sklearn.model_selection import cross_val_score"
   ]
  },
  {
   "cell_type": "code",
   "execution_count": 49,
   "metadata": {},
   "outputs": [],
   "source": [
    "pipes = {\n",
    "    'avg value received only': Pipeline([\n",
    "        ('trans', ColumnTransformer(\n",
    "            [('keep', FunctionTransformer(lambda x: x), ['avg val received'])], \n",
    "            remainder='drop')), \n",
    "        ('log-reg', LogisticRegression())\n",
    "    ]),\n",
    "    'avg value received + ERC20 uniq sent addr': Pipeline([\n",
    "        ('trans', ColumnTransformer(\n",
    "            [('keep', FunctionTransformer(lambda x: x), ['avg val received', ' ERC20 uniq sent addr'])], \n",
    "            remainder='drop')), \n",
    "        ('log-reg', LogisticRegression())\n",
    "    ]),\n",
    "    'avg value received + ERC20 uniq sent addr + Number of Created Contracts': Pipeline([\n",
    "        ('trans', ColumnTransformer(\n",
    "            [('keep', FunctionTransformer(lambda x: x), ['Number of Created Contracts', 'avg val received', ' ERC20 uniq sent addr'])], \n",
    "            remainder='drop')), \n",
    "        ('log-reg', LogisticRegression())\n",
    "    ]),\n",
    "}"
   ]
  },
  {
   "cell_type": "code",
   "execution_count": 50,
   "metadata": {},
   "outputs": [],
   "source": [
    "pipe_df = pd.DataFrame()\n",
    "\n",
    "for pipe in pipes:\n",
    "    errs = cross_val_score(pipes[pipe], X_train_df, y_train_df,\n",
    "                           cv=5, scoring='neg_root_mean_squared_error')\n",
    "    pipe_df[pipe] = -errs\n",
    "    \n",
    "pipe_df.index = [f'Fold {i}' for i in range(1, 6)]\n",
    "pipe_df.index.name = 'Validation Fold'"
   ]
  },
  {
   "cell_type": "code",
   "execution_count": 51,
   "metadata": {
    "scrolled": true
   },
   "outputs": [
    {
     "data": {
      "text/html": [
       "<div>\n",
       "<style scoped>\n",
       "    .dataframe tbody tr th:only-of-type {\n",
       "        vertical-align: middle;\n",
       "    }\n",
       "\n",
       "    .dataframe tbody tr th {\n",
       "        vertical-align: top;\n",
       "    }\n",
       "\n",
       "    .dataframe thead th {\n",
       "        text-align: right;\n",
       "    }\n",
       "</style>\n",
       "<table border=\"1\" class=\"dataframe\">\n",
       "  <thead>\n",
       "    <tr style=\"text-align: right;\">\n",
       "      <th></th>\n",
       "      <th>avg value received only</th>\n",
       "      <th>avg value received + ERC20 uniq sent addr</th>\n",
       "      <th>avg value received + ERC20 uniq sent addr + Number of Created Contracts</th>\n",
       "    </tr>\n",
       "    <tr>\n",
       "      <th>Validation Fold</th>\n",
       "      <th></th>\n",
       "      <th></th>\n",
       "      <th></th>\n",
       "    </tr>\n",
       "  </thead>\n",
       "  <tbody>\n",
       "    <tr>\n",
       "      <th>Fold 1</th>\n",
       "      <td>0.529644</td>\n",
       "      <td>0.521877</td>\n",
       "      <td>0.480744</td>\n",
       "    </tr>\n",
       "    <tr>\n",
       "      <th>Fold 2</th>\n",
       "      <td>0.551178</td>\n",
       "      <td>0.538437</td>\n",
       "      <td>0.491662</td>\n",
       "    </tr>\n",
       "    <tr>\n",
       "      <th>Fold 3</th>\n",
       "      <td>0.527713</td>\n",
       "      <td>0.519918</td>\n",
       "      <td>0.476478</td>\n",
       "    </tr>\n",
       "    <tr>\n",
       "      <th>Fold 4</th>\n",
       "      <td>0.506793</td>\n",
       "      <td>0.485813</td>\n",
       "      <td>0.448217</td>\n",
       "    </tr>\n",
       "    <tr>\n",
       "      <th>Fold 5</th>\n",
       "      <td>0.523937</td>\n",
       "      <td>0.507300</td>\n",
       "      <td>0.460889</td>\n",
       "    </tr>\n",
       "  </tbody>\n",
       "</table>\n",
       "</div>"
      ],
      "text/plain": [
       "                 avg value received only  \\\n",
       "Validation Fold                            \n",
       "Fold 1                          0.529644   \n",
       "Fold 2                          0.551178   \n",
       "Fold 3                          0.527713   \n",
       "Fold 4                          0.506793   \n",
       "Fold 5                          0.523937   \n",
       "\n",
       "                 avg value received + ERC20 uniq sent addr  \\\n",
       "Validation Fold                                              \n",
       "Fold 1                                            0.521877   \n",
       "Fold 2                                            0.538437   \n",
       "Fold 3                                            0.519918   \n",
       "Fold 4                                            0.485813   \n",
       "Fold 5                                            0.507300   \n",
       "\n",
       "                 avg value received + ERC20 uniq sent addr + Number of Created Contracts  \n",
       "Validation Fold                                                                           \n",
       "Fold 1                                                    0.480744                        \n",
       "Fold 2                                                    0.491662                        \n",
       "Fold 3                                                    0.476478                        \n",
       "Fold 4                                                    0.448217                        \n",
       "Fold 5                                                    0.460889                        "
      ]
     },
     "execution_count": 51,
     "metadata": {},
     "output_type": "execute_result"
    }
   ],
   "source": [
    "pipe_df"
   ]
  },
  {
   "cell_type": "code",
   "execution_count": 52,
   "metadata": {
    "scrolled": true
   },
   "outputs": [
    {
     "data": {
      "text/plain": [
       "avg value received only                                                    0.527853\n",
       "avg value received + ERC20 uniq sent addr                                  0.514669\n",
       "avg value received + ERC20 uniq sent addr + Number of Created Contracts    0.471598\n",
       "dtype: float64"
      ]
     },
     "execution_count": 52,
     "metadata": {},
     "output_type": "execute_result"
    }
   ],
   "source": [
    "pipe_df.mean()"
   ]
  },
  {
   "cell_type": "markdown",
   "metadata": {},
   "source": [
    "Immediately we can see that the features \"ERC20 uniq sent addr\" and \"Number of Created Contracts\" do not really add to the average cross validation score of our model. Thus, this means that they provide little additional information to the model. Moreover, as a variable, \"avg value received\" also performs only a little better than random choice. Thus, we will need to further examine more features"
   ]
  },
  {
   "cell_type": "code",
   "execution_count": 53,
   "metadata": {},
   "outputs": [
    {
     "data": {
      "text/plain": [
       "Index(['Avg min between sent tnx', 'Avg min between received tnx',\n",
       "       'Time Diff between first and last (Mins)', 'Sent tnx', 'Received Tnx',\n",
       "       'Number of Created Contracts', 'max value received ',\n",
       "       'avg val received', 'avg val sent', 'total Ether sent',\n",
       "       'total ether balance', ' ERC20 total Ether received',\n",
       "       ' ERC20 total ether sent', ' ERC20 uniq sent addr',\n",
       "       ' ERC20 uniq rec token name'],\n",
       "      dtype='object')"
      ]
     },
     "execution_count": 53,
     "metadata": {},
     "output_type": "execute_result"
    }
   ],
   "source": [
    "X_train_df.columns"
   ]
  },
  {
   "cell_type": "markdown",
   "metadata": {},
   "source": [
    "From the above features, let's now try out \"total Ether sent\", \"max value received\", and \"avg val sent\""
   ]
  },
  {
   "cell_type": "code",
   "execution_count": 54,
   "metadata": {},
   "outputs": [],
   "source": [
    "pipes = {\n",
    "    'avg val sent only': Pipeline([\n",
    "        ('trans', ColumnTransformer(\n",
    "            [('keep', FunctionTransformer(lambda x: x), ['avg val sent'])], \n",
    "            remainder='drop')), \n",
    "        ('log-reg', LogisticRegression())\n",
    "    ]),\n",
    "    'avg val sent + total Ether sent': Pipeline([\n",
    "        ('trans', ColumnTransformer(\n",
    "            [('keep', FunctionTransformer(lambda x: x), ['avg val sent', 'total Ether sent'])], \n",
    "            remainder='drop')), \n",
    "        ('log-reg', LogisticRegression())\n",
    "    ]),\n",
    "    'avg val sent + total Ether sent + max value received ': Pipeline([\n",
    "        ('trans', ColumnTransformer(\n",
    "            [('keep', FunctionTransformer(lambda x: x), ['avg val sent', 'total Ether sent', 'max value received '])], \n",
    "            remainder='drop')), \n",
    "        ('log-reg', LogisticRegression())\n",
    "    ]),\n",
    "}"
   ]
  },
  {
   "cell_type": "code",
   "execution_count": 55,
   "metadata": {},
   "outputs": [],
   "source": [
    "pipe_df = pd.DataFrame()\n",
    "\n",
    "for pipe in pipes:\n",
    "    errs = cross_val_score(pipes[pipe], X_train_df, y_train_df,\n",
    "                           cv=5, scoring='neg_root_mean_squared_error')\n",
    "    pipe_df[pipe] = -errs\n",
    "    \n",
    "pipe_df.index = [f'Fold {i}' for i in range(1, 6)]\n",
    "pipe_df.index.name = 'Validation Fold'"
   ]
  },
  {
   "cell_type": "code",
   "execution_count": 56,
   "metadata": {},
   "outputs": [
    {
     "data": {
      "text/html": [
       "<div>\n",
       "<style scoped>\n",
       "    .dataframe tbody tr th:only-of-type {\n",
       "        vertical-align: middle;\n",
       "    }\n",
       "\n",
       "    .dataframe tbody tr th {\n",
       "        vertical-align: top;\n",
       "    }\n",
       "\n",
       "    .dataframe thead th {\n",
       "        text-align: right;\n",
       "    }\n",
       "</style>\n",
       "<table border=\"1\" class=\"dataframe\">\n",
       "  <thead>\n",
       "    <tr style=\"text-align: right;\">\n",
       "      <th></th>\n",
       "      <th>avg val sent only</th>\n",
       "      <th>avg val sent + total Ether sent</th>\n",
       "      <th>avg val sent + total Ether sent + max value received</th>\n",
       "    </tr>\n",
       "    <tr>\n",
       "      <th>Validation Fold</th>\n",
       "      <th></th>\n",
       "      <th></th>\n",
       "      <th></th>\n",
       "    </tr>\n",
       "  </thead>\n",
       "  <tbody>\n",
       "    <tr>\n",
       "      <th>Fold 1</th>\n",
       "      <td>0.633874</td>\n",
       "      <td>0.527713</td>\n",
       "      <td>0.490831</td>\n",
       "    </tr>\n",
       "    <tr>\n",
       "      <th>Fold 2</th>\n",
       "      <td>0.652914</td>\n",
       "      <td>0.538437</td>\n",
       "      <td>0.505583</td>\n",
       "    </tr>\n",
       "    <tr>\n",
       "      <th>Fold 3</th>\n",
       "      <td>0.642194</td>\n",
       "      <td>0.529258</td>\n",
       "      <td>0.498262</td>\n",
       "    </tr>\n",
       "    <tr>\n",
       "      <th>Fold 4</th>\n",
       "      <td>0.623155</td>\n",
       "      <td>0.517556</td>\n",
       "      <td>0.475191</td>\n",
       "    </tr>\n",
       "    <tr>\n",
       "      <th>Fold 5</th>\n",
       "      <td>0.654921</td>\n",
       "      <td>0.538167</td>\n",
       "      <td>0.488428</td>\n",
       "    </tr>\n",
       "  </tbody>\n",
       "</table>\n",
       "</div>"
      ],
      "text/plain": [
       "                 avg val sent only  avg val sent + total Ether sent  \\\n",
       "Validation Fold                                                       \n",
       "Fold 1                    0.633874                         0.527713   \n",
       "Fold 2                    0.652914                         0.538437   \n",
       "Fold 3                    0.642194                         0.529258   \n",
       "Fold 4                    0.623155                         0.517556   \n",
       "Fold 5                    0.654921                         0.538167   \n",
       "\n",
       "                 avg val sent + total Ether sent + max value received   \n",
       "Validation Fold                                                         \n",
       "Fold 1                                                    0.490831      \n",
       "Fold 2                                                    0.505583      \n",
       "Fold 3                                                    0.498262      \n",
       "Fold 4                                                    0.475191      \n",
       "Fold 5                                                    0.488428      "
      ]
     },
     "execution_count": 56,
     "metadata": {},
     "output_type": "execute_result"
    }
   ],
   "source": [
    "pipe_df"
   ]
  },
  {
   "cell_type": "code",
   "execution_count": 57,
   "metadata": {
    "scrolled": true
   },
   "outputs": [
    {
     "data": {
      "text/plain": [
       "avg val sent only                                        0.641412\n",
       "avg val sent + total Ether sent                          0.530226\n",
       "avg val sent + total Ether sent + max value received     0.491659\n",
       "dtype: float64"
      ]
     },
     "execution_count": 57,
     "metadata": {},
     "output_type": "execute_result"
    }
   ],
   "source": [
    "pipe_df.mean()"
   ]
  },
  {
   "cell_type": "markdown",
   "metadata": {},
   "source": [
    "Thus we see from the above output that avg value sent is a meaningful feature that could increase the predictive power of our model. Thus, we now choose to keep that feature in our final model. We will perform cross validation on one last pipeline of features in order to do one last feature search."
   ]
  },
  {
   "cell_type": "code",
   "execution_count": 58,
   "metadata": {},
   "outputs": [
    {
     "data": {
      "text/plain": [
       "Index(['Avg min between sent tnx', 'Avg min between received tnx',\n",
       "       'Time Diff between first and last (Mins)', 'Sent tnx', 'Received Tnx',\n",
       "       'Number of Created Contracts', 'max value received ',\n",
       "       'avg val received', 'avg val sent', 'total Ether sent',\n",
       "       'total ether balance', ' ERC20 total Ether received',\n",
       "       ' ERC20 total ether sent', ' ERC20 uniq sent addr',\n",
       "       ' ERC20 uniq rec token name'],\n",
       "      dtype='object')"
      ]
     },
     "execution_count": 58,
     "metadata": {},
     "output_type": "execute_result"
    }
   ],
   "source": [
    "X_train_df.columns"
   ]
  },
  {
   "cell_type": "code",
   "execution_count": 59,
   "metadata": {},
   "outputs": [],
   "source": [
    "pipes = {\n",
    "    'total ether balance': Pipeline([\n",
    "        ('trans', ColumnTransformer(\n",
    "            [('keep', FunctionTransformer(lambda x: x), ['total ether balance'])], \n",
    "            remainder='drop')), \n",
    "        ('log-reg', LogisticRegression())\n",
    "    ]),\n",
    "    'total ether balance + Avg min between received tnx': Pipeline([\n",
    "        ('trans', ColumnTransformer(\n",
    "            [('keep', FunctionTransformer(lambda x: x), ['total ether balance', 'Avg min between received tnx'])], \n",
    "            remainder='drop')), \n",
    "        ('log-reg', LogisticRegression())\n",
    "    ]),\n",
    "    'total ether balance + total Ether sent + ERC20 total ether sent': Pipeline([\n",
    "        ('trans', ColumnTransformer(\n",
    "            [('keep', FunctionTransformer(lambda x: x), ['total ether balance', 'total Ether sent', ' ERC20 total ether sent'])], \n",
    "            remainder='drop')), \n",
    "        ('log-reg', LogisticRegression())\n",
    "    ]),\n",
    "}"
   ]
  },
  {
   "cell_type": "code",
   "execution_count": 60,
   "metadata": {},
   "outputs": [],
   "source": [
    "pipe_df = pd.DataFrame()\n",
    "\n",
    "for pipe in pipes:\n",
    "    errs = cross_val_score(pipes[pipe], X_train_df, y_train_df,\n",
    "                           cv=5, scoring='neg_root_mean_squared_error')\n",
    "    pipe_df[pipe] = -errs\n",
    "    \n",
    "pipe_df.index = [f'Fold {i}' for i in range(1, 6)]\n",
    "pipe_df.index.name = 'Validation Fold'"
   ]
  },
  {
   "cell_type": "code",
   "execution_count": 61,
   "metadata": {},
   "outputs": [
    {
     "data": {
      "text/html": [
       "<div>\n",
       "<style scoped>\n",
       "    .dataframe tbody tr th:only-of-type {\n",
       "        vertical-align: middle;\n",
       "    }\n",
       "\n",
       "    .dataframe tbody tr th {\n",
       "        vertical-align: top;\n",
       "    }\n",
       "\n",
       "    .dataframe thead th {\n",
       "        text-align: right;\n",
       "    }\n",
       "</style>\n",
       "<table border=\"1\" class=\"dataframe\">\n",
       "  <thead>\n",
       "    <tr style=\"text-align: right;\">\n",
       "      <th></th>\n",
       "      <th>total ether balance</th>\n",
       "      <th>total ether balance + Avg min between received tnx</th>\n",
       "      <th>total ether balance + total Ether sent + ERC20 total ether sent</th>\n",
       "    </tr>\n",
       "    <tr>\n",
       "      <th>Validation Fold</th>\n",
       "      <th></th>\n",
       "      <th></th>\n",
       "      <th></th>\n",
       "    </tr>\n",
       "  </thead>\n",
       "  <tbody>\n",
       "    <tr>\n",
       "      <th>Fold 1</th>\n",
       "      <td>0.706385</td>\n",
       "      <td>0.651662</td>\n",
       "      <td>0.570830</td>\n",
       "    </tr>\n",
       "    <tr>\n",
       "      <th>Fold 2</th>\n",
       "      <td>0.704648</td>\n",
       "      <td>0.661920</td>\n",
       "      <td>0.580407</td>\n",
       "    </tr>\n",
       "    <tr>\n",
       "      <th>Fold 3</th>\n",
       "      <td>0.710994</td>\n",
       "      <td>0.662228</td>\n",
       "      <td>0.572259</td>\n",
       "    </tr>\n",
       "    <tr>\n",
       "      <th>Fold 4</th>\n",
       "      <td>0.710707</td>\n",
       "      <td>0.670805</td>\n",
       "      <td>0.563632</td>\n",
       "    </tr>\n",
       "    <tr>\n",
       "      <th>Fold 5</th>\n",
       "      <td>0.705661</td>\n",
       "      <td>0.662055</td>\n",
       "      <td>0.585081</td>\n",
       "    </tr>\n",
       "  </tbody>\n",
       "</table>\n",
       "</div>"
      ],
      "text/plain": [
       "                 total ether balance  \\\n",
       "Validation Fold                        \n",
       "Fold 1                      0.706385   \n",
       "Fold 2                      0.704648   \n",
       "Fold 3                      0.710994   \n",
       "Fold 4                      0.710707   \n",
       "Fold 5                      0.705661   \n",
       "\n",
       "                 total ether balance + Avg min between received tnx  \\\n",
       "Validation Fold                                                       \n",
       "Fold 1                                                    0.651662    \n",
       "Fold 2                                                    0.661920    \n",
       "Fold 3                                                    0.662228    \n",
       "Fold 4                                                    0.670805    \n",
       "Fold 5                                                    0.662055    \n",
       "\n",
       "                 total ether balance + total Ether sent + ERC20 total ether sent  \n",
       "Validation Fold                                                                   \n",
       "Fold 1                                                    0.570830                \n",
       "Fold 2                                                    0.580407                \n",
       "Fold 3                                                    0.572259                \n",
       "Fold 4                                                    0.563632                \n",
       "Fold 5                                                    0.585081                "
      ]
     },
     "execution_count": 61,
     "metadata": {},
     "output_type": "execute_result"
    }
   ],
   "source": [
    "pipe_df"
   ]
  },
  {
   "cell_type": "code",
   "execution_count": 62,
   "metadata": {
    "scrolled": true
   },
   "outputs": [
    {
     "data": {
      "text/plain": [
       "total ether balance                                                0.707679\n",
       "total ether balance + Avg min between received tnx                 0.661734\n",
       "total ether balance + total Ether sent + ERC20 total ether sent    0.574442\n",
       "dtype: float64"
      ]
     },
     "execution_count": 62,
     "metadata": {},
     "output_type": "execute_result"
    }
   ],
   "source": [
    "pipe_df.mean()"
   ]
  },
  {
   "cell_type": "markdown",
   "metadata": {},
   "source": [
    "Thus, from the above cross validation results we can see that the \"total ether balance\" feature has pretty high predictive power. That predictive power is weakened slightly when combined with \"Avg min between received tnx\" but we can experiment with other models and try to find one that minimizes errors with our final chosen features"
   ]
  },
  {
   "cell_type": "markdown",
   "metadata": {},
   "source": [
    "Our final features include = total ether balance , Avg min between received tnx , avg val sent and avg val received. This is reflected in our final training dataframe below:"
   ]
  },
  {
   "cell_type": "code",
   "execution_count": 63,
   "metadata": {},
   "outputs": [
    {
     "data": {
      "text/html": [
       "<div>\n",
       "<style scoped>\n",
       "    .dataframe tbody tr th:only-of-type {\n",
       "        vertical-align: middle;\n",
       "    }\n",
       "\n",
       "    .dataframe tbody tr th {\n",
       "        vertical-align: top;\n",
       "    }\n",
       "\n",
       "    .dataframe thead th {\n",
       "        text-align: right;\n",
       "    }\n",
       "</style>\n",
       "<table border=\"1\" class=\"dataframe\">\n",
       "  <thead>\n",
       "    <tr style=\"text-align: right;\">\n",
       "      <th></th>\n",
       "      <th>total ether balance</th>\n",
       "      <th>Avg min between received tnx</th>\n",
       "      <th>avg val sent</th>\n",
       "      <th>avg val received</th>\n",
       "    </tr>\n",
       "  </thead>\n",
       "  <tbody>\n",
       "    <tr>\n",
       "      <th>0</th>\n",
       "      <td>-0.006203</td>\n",
       "      <td>-1.189532</td>\n",
       "      <td>1.030553</td>\n",
       "      <td>0.969651</td>\n",
       "    </tr>\n",
       "    <tr>\n",
       "      <th>1</th>\n",
       "      <td>-0.006203</td>\n",
       "      <td>-1.189532</td>\n",
       "      <td>-0.722897</td>\n",
       "      <td>-0.842627</td>\n",
       "    </tr>\n",
       "    <tr>\n",
       "      <th>2</th>\n",
       "      <td>-0.006184</td>\n",
       "      <td>1.735319</td>\n",
       "      <td>-1.029198</td>\n",
       "      <td>-0.626325</td>\n",
       "    </tr>\n",
       "    <tr>\n",
       "      <th>3</th>\n",
       "      <td>-0.006203</td>\n",
       "      <td>-1.189532</td>\n",
       "      <td>-0.431917</td>\n",
       "      <td>-0.537390</td>\n",
       "    </tr>\n",
       "    <tr>\n",
       "      <th>4</th>\n",
       "      <td>-0.006203</td>\n",
       "      <td>-1.189532</td>\n",
       "      <td>1.214906</td>\n",
       "      <td>1.455566</td>\n",
       "    </tr>\n",
       "  </tbody>\n",
       "</table>\n",
       "</div>"
      ],
      "text/plain": [
       "   total ether balance  Avg min between received tnx  avg val sent  \\\n",
       "0            -0.006203                     -1.189532      1.030553   \n",
       "1            -0.006203                     -1.189532     -0.722897   \n",
       "2            -0.006184                      1.735319     -1.029198   \n",
       "3            -0.006203                     -1.189532     -0.431917   \n",
       "4            -0.006203                     -1.189532      1.214906   \n",
       "\n",
       "   avg val received  \n",
       "0          0.969651  \n",
       "1         -0.842627  \n",
       "2         -0.626325  \n",
       "3         -0.537390  \n",
       "4          1.455566  "
      ]
     },
     "execution_count": 63,
     "metadata": {},
     "output_type": "execute_result"
    }
   ],
   "source": [
    "X_train_df_final_features = X_train_df[['total ether balance', 'Avg min between received tnx', 'avg val sent', 'avg val received']]\n",
    "X_train_df_final_features.head()"
   ]
  },
  {
   "cell_type": "code",
   "execution_count": 64,
   "metadata": {},
   "outputs": [],
   "source": [
    "X_test_df_final_features = X_train_df[['total ether balance', 'Avg min between received tnx', 'avg val sent', 'avg val received']]\n"
   ]
  },
  {
   "cell_type": "code",
   "execution_count": 65,
   "metadata": {},
   "outputs": [
    {
     "data": {
      "text/plain": [
       "array([[-0.00620331, -1.18953151,  1.03055342,  0.96965089],\n",
       "       [-0.00620331, -1.18953151, -0.72289701, -0.8426266 ],\n",
       "       [-0.00618386,  1.73531945, -1.02919768, -0.62632541],\n",
       "       ...,\n",
       "       [-0.0062032 ,  1.03051769, -1.13728038, -1.27940616],\n",
       "       [-0.00620332,  1.22604267, -0.55724421, -0.82464253],\n",
       "       [-0.00620329,  1.13770197, -1.0696605 , -1.25258373]])"
      ]
     },
     "execution_count": 65,
     "metadata": {},
     "output_type": "execute_result"
    }
   ],
   "source": [
    "X_train_df_final_features.to_numpy()"
   ]
  },
  {
   "cell_type": "markdown",
   "metadata": {},
   "source": [
    "### Finding the Best Fitting Model"
   ]
  },
  {
   "cell_type": "code",
   "execution_count": 66,
   "metadata": {
    "scrolled": true
   },
   "outputs": [
    {
     "name": "stdout",
     "output_type": "stream",
     "text": [
      "Best parameters:  {'C': 10, 'degree': 2, 'kernel': 'rbf'}\n",
      "Accuracy score:  0.8521725554247832\n"
     ]
    }
   ],
   "source": [
    "## Experimenting with diffrent hyperparameters for SVM classifier\n",
    "from sklearn.svm import SVC\n",
    "from sklearn.metrics import accuracy_score\n",
    "from sklearn.model_selection import GridSearchCV\n",
    "\n",
    "# Define the SVM classifier\n",
    "svm_clf = SVC()\n",
    "\n",
    "# Define the hyperparameters to be searched\n",
    "params = {\n",
    "    'C': [0.1, 1, 10],\n",
    "    'kernel': ['linear', 'poly', 'rbf', 'sigmoid'],\n",
    "    'degree': [2, 5]\n",
    "}\n",
    "\n",
    "# Create a grid search object\n",
    "grid_search = GridSearchCV(svm_clf, params, cv=5, scoring='accuracy')\n",
    "\n",
    "# Train the model using the grid search object\n",
    "grid_search.fit(X_train_df_final_features.to_numpy(), y_train)\n",
    "\n",
    "# Print the best parameters and the corresponding accuracy score\n",
    "print(\"Best parameters: \", grid_search.best_params_)\n",
    "print(\"Accuracy score: \", grid_search.best_score_)"
   ]
  },
  {
   "cell_type": "code",
   "execution_count": 67,
   "metadata": {},
   "outputs": [
    {
     "name": "stdout",
     "output_type": "stream",
     "text": [
      "Best hyperparameters for Logistic Regression: {'C': 1.0, 'penalty': 'l1', 'solver': 'liblinear'}\n",
      "Accuracy of Logistic Regression classifier with best hyperparameters: 0.8217369222955815\n"
     ]
    }
   ],
   "source": [
    "## Experimenting with diffrent hyperparameters for Logistic Regression\n",
    "\n",
    "log_reg_params = {\n",
    "    'penalty': ['l1', 'l2'],\n",
    "    'C': [0.01, 0.1, 1.0, 10.0],\n",
    "    'solver': ['liblinear', 'saga']\n",
    "}\n",
    "\n",
    "# Define classifiers\n",
    "log_reg_clf = LogisticRegression()\n",
    "\n",
    "# Define GridSearchCV objects for each classifier\n",
    "log_reg_gs = GridSearchCV(log_reg_clf, log_reg_params, cv=5)\n",
    "\n",
    "# Fit GridSearchCV objects to data\n",
    "log_reg_gs.fit(X_train, y_train)\n",
    "\n",
    "# Get best hyperparameters and evaluate models with them\n",
    "log_reg_best_params = log_reg_gs.best_params_\n",
    "log_reg_best_clf = LogisticRegression(**log_reg_best_params)\n",
    "log_reg_best_clf.fit(X_train, y_train)\n",
    "log_reg_pred = log_reg_best_clf.predict(X_test)\n",
    "log_reg_acc = accuracy_score(y_test, log_reg_pred)\n",
    "\n",
    "print(\"Best hyperparameters for Logistic Regression:\", log_reg_best_params)\n",
    "print(\"Accuracy of Logistic Regression classifier with best hyperparameters:\", log_reg_acc)"
   ]
  },
  {
   "cell_type": "code",
   "execution_count": 68,
   "metadata": {},
   "outputs": [
    {
     "name": "stdout",
     "output_type": "stream",
     "text": [
      "Best hyperparameters for Random Forest: {'max_depth': 20, 'min_samples_leaf': 1, 'min_samples_split': 2, 'n_estimators': 200}\n",
      "Accuracy of Random Forest classifier with best hyperparameters: 0.6617572371762316\n"
     ]
    }
   ],
   "source": [
    "## Experimenting with diffrent hyperparameters for Random Forest Classifier\n",
    "\n",
    "rf_params = {\n",
    "    'n_estimators': [50, 100, 200],\n",
    "    'max_depth': [5, 10, 20, None],\n",
    "    'min_samples_split': [2, 5, 10],\n",
    "    'min_samples_leaf': [1, 2, 4]\n",
    "}\n",
    "\n",
    "# Define classifiers\n",
    "rf_clf = RandomForestClassifier()\n",
    "\n",
    "# Define GridSearchCV objects for each classifier\n",
    "rf_gs = GridSearchCV(rf_clf, rf_params, cv=5)\n",
    "\n",
    "# Fit GridSearchCV objects to data\n",
    "rf_gs.fit(X_train, y_train)\n",
    "\n",
    "# Get best hyperparameters and evaluate models with them\n",
    "rf_best_params = rf_gs.best_params_\n",
    "rf_best_clf = RandomForestClassifier(**rf_best_params)\n",
    "rf_best_clf.fit(X_train_df_final_features.to_numpy(), y_train)\n",
    "rf_pred = rf_best_clf.predict(X_test_df_final_features.to_numpy())\n",
    "\n",
    "# resize rf_pred to match the size of y_test\n",
    "rf_pred_resized = np.resize(rf_pred, y_test.shape)\n",
    "\n",
    "# calculate accuracy score\n",
    "rf_acc = accuracy_score(y_test, rf_pred_resized)\n",
    "\n",
    "print(\"Best hyperparameters for Random Forest:\", rf_best_params)\n",
    "print(\"Accuracy of Random Forest classifier with best hyperparameters:\", rf_acc)"
   ]
  },
  {
   "cell_type": "code",
   "execution_count": 69,
   "metadata": {},
   "outputs": [
    {
     "name": "stdout",
     "output_type": "stream",
     "text": [
      "Best hyperparameters:  {'learning_rate': 0.1, 'max_depth': 7, 'n_estimators': 500}\n",
      "Accuracy with best hyperparameters:  0.9885658612158623\n"
     ]
    }
   ],
   "source": [
    "## Experimenting with diffrent hyperparameters for XGBoost Classifier\n",
    "\n",
    "params = {\n",
    "    'max_depth': [3, 5, 7],\n",
    "    'learning_rate': [0.1, 0.01, 0.001],\n",
    "    'n_estimators': [100, 500, 1000]\n",
    "}\n",
    "\n",
    "# Import the GridSearchCV class from sklearn\n",
    "from sklearn.model_selection import GridSearchCV\n",
    "\n",
    "# Define the XGBoost classifier\n",
    "xgb_clf = xgb.XGBClassifier()\n",
    "\n",
    "# Create an instance of GridSearchCV and fit the data\n",
    "grid_search = GridSearchCV(xgb_clf, params, scoring='accuracy', n_jobs=-1, cv=5)\n",
    "grid_search.fit(X_train, y_train)\n",
    "\n",
    "# Print the best hyperparameters and the corresponding accuracy score\n",
    "print(\"Best hyperparameters: \", grid_search.best_params_)\n",
    "print(\"Accuracy with best hyperparameters: \", grid_search.best_score_)"
   ]
  },
  {
   "cell_type": "code",
   "execution_count": 70,
   "metadata": {},
   "outputs": [
    {
     "name": "stdout",
     "output_type": "stream",
     "text": [
      "Accuracy of the ensemble classifier: 0.8329101066531234\n"
     ]
    }
   ],
   "source": [
    "## Building and evaluating the ensemble algorithim\n",
    "\n",
    "from sklearn.ensemble import VotingClassifier\n",
    "\n",
    "# Define the classifiers\n",
    "svm_clf = SVC(C=0.1, coef0=0, degree=2, gamma='auto', kernel='poly')\n",
    "log_reg_clf = LogisticRegression(C=1.0, penalty='l1', solver='saga')\n",
    "rf_clf = RandomForestClassifier(max_depth=None, min_samples_leaf=4, min_samples_split=2, n_estimators=50)\n",
    "xgb_clf = xgb.XGBClassifier(learning_rate=0.01, max_depth=3, n_estimators=100)\n",
    "\n",
    "# Define the ensemble classifier\n",
    "ensemble_clf = VotingClassifier(estimators=[('svm', svm_clf), ('log_reg', log_reg_clf), ('rf', rf_clf), ('xgb', xgb_clf)], voting='hard')\n",
    "\n",
    "# Fit the ensemble classifier to the training data\n",
    "ensemble_clf.fit(X_train, y_train)\n",
    "\n",
    "# Predict on the test data using the ensemble classifier\n",
    "ensemble_pred = ensemble_clf.predict(X_test)\n",
    "\n",
    "# Calculate the accuracy of the ensemble classifier\n",
    "ensemble_acc = accuracy_score(y_test, ensemble_pred)\n",
    "\n",
    "print(\"Accuracy of the ensemble classifier:\", ensemble_acc)"
   ]
  },
  {
   "cell_type": "markdown",
   "metadata": {},
   "source": [
    "# Discussion"
   ]
  },
  {
   "cell_type": "markdown",
   "metadata": {},
   "source": [
    "### Interpreting the result\n",
    "\n",
    "The biggest takeaway in this project is that all of the classifier algorithms we tested performed really well (>80%) but the one that gave SOTA performance is the XGBoost classifier - an accuracy of 98%\n",
    "\n",
    "This is not surprising as the algorithm has been widely used in Kaggle competitions, yielding excellent performance most of the time. Not only the XGBoost classifier performed well in solving the task for our project, but it also has the highest F1 score () among all other classifiers. This imply that it is most sensitive to false positives and false negatives compared to the other classifiers - which is what we want for this particular task as indeed not flagging a transaction as fraud is the last thing we'd want to happen."
   ]
  },
  {
   "cell_type": "markdown",
   "metadata": {},
   "source": [
    "### Limitations\n",
    "\n",
    "We believed we have explored and covered a large search space for tuning the hyperparameters, yielding the best combination and hence good results. However, we also agree that for a problem like this, the nature of how fraudulent activities occur in the cryptocurrency world will change overtime. Thus, we should update the model as more and more data are available.\n",
    "\n",
    "Another possible implementation is the process of building our final model is computationally heavy as we needed to use ensemble of different classifiers - meaning we needed to train every classifier $C$ and ensemble the best version of these. "
   ]
  },
  {
   "cell_type": "markdown",
   "metadata": {},
   "source": [
    "### Ethics & Privacy"
   ]
  },
  {
   "cell_type": "markdown",
   "metadata": {},
   "source": [
    "Ethical concerns are very crucial to ensuring successful deployment of our project. These ethical concerns must be taken into account at every stage of this project and these stages are data collection and analysis, data storage, and data modeling. When considering the ethical concerns around the way we collect data for this project we must ensure that there is no data collection bias of our source during the process of collecting data, also, we need to ensure that our data would be appropriately usable for future reproduction and replication. There may be a potential issue in the accuracy of the data due to possible confounds (Unreported values, outliers). We will also analyze the data set for any confidentialities and make sure that the data set excludes the confidential data for specific individuals like for example, the location of where the transactions occurred or received. Now for data storage, the ethical considerations we have to make is that since we will be importing 2 large datasets from kaggle that contain over 10K values. It’s important to verify that each of these values do not reveal the identity of individuals as the data contains information regarding transactions/payments of those individuals. We also need to decide a plan for removing data if we no longer need it. Our plan is to protect our data and to ensure data security is to limit the access to our dataset within our group members only. Since the dataset we use is originally provided from kaggle and not directly from the users, we do not have to worry about including sensitive information because the source, “kaggle” will not ask nor provide their users for it. Also, the above listed sources might have already checked for their own ethical considerations before publishing. For Data Modeling, the ethical consideration we must make is to ensure that the ML model we choose to implement isn’t biased and fits the criteria that we set forth meaning the proposed task we are trying to accomplish. We also want to be careful in minimizing any overfitting so that the model can accurately predict across a large spectrum of diverse inputs.  "
   ]
  },
  {
   "cell_type": "markdown",
   "metadata": {},
   "source": [
    "### Conclusion\n",
    "\n",
    "In conclusion, we have solved our proposed problem via deploying ensemble of classifiers on the dataset, namely XGBoost, SVM, Random Forest, and Logistic Regression, yielding an __accuracy of 100%__. Individually, the XGBoost classifier performed best with an accuracy of 98% and an __F1-score of 0.45__.\n",
    "\n",
    "With these results in mind, we assert that the ensemble of the classifiers is the best classifier to address this problem, using the hyperparameters we have experimented with.\n",
    "\n",
    "In the future we plan to compare our approach with the available methods used for detecting frauds in cryptocurrency exchange, like the LGBM method. We believe that this is an interesting and important task to address for the safety of the current financial world we live in."
   ]
  },
  {
   "cell_type": "markdown",
   "metadata": {},
   "source": [
    "# Footnotes\n",
    "<a name=\"lorenznote\"></a>1.[^](#lorenz): Lorenz, T. (9 Dec 2021) Birds Aren’t Real, or Are They? Inside a Gen Z Conspiracy Theory. *The New York Times*. https://www.nytimes.com/2021/12/09/technology/birds-arent-real-gen-z-misinformation.html<br> \n",
    "<a name=\"admonishnote\"></a>2.[^](#admonish): Also refs should be important to the background, not some randomly chosen vaguely related stuff. Include a web link if possible in refs as above.<br>\n",
    "<a name=\"sotanote\"></a>3.[^](#sota): Perhaps the current state of the art solution such as you see on [Papers with code](https://paperswithcode.com/sota). Or maybe not SOTA, but rather a standard textbook/Kaggle solution to this kind of problem\n"
   ]
  }
 ],
 "metadata": {
  "kernelspec": {
   "display_name": "Python 3.10.1 64-bit ('3.10.1')",
   "language": "python",
   "name": "python3"
  },
  "language_info": {
   "codemirror_mode": {
    "name": "ipython",
    "version": 3
   },
   "file_extension": ".py",
   "mimetype": "text/x-python",
   "name": "python",
   "nbconvert_exporter": "python",
   "pygments_lexer": "ipython3",
   "version": "3.10.1"
  },
  "vscode": {
   "interpreter": {
    "hash": "18ecc4131955a650750a507387daea6a6288993ce0ea37e8330a7f1328b9d159"
   }
  }
 },
 "nbformat": 4,
 "nbformat_minor": 4
}
